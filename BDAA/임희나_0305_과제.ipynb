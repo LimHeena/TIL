{
 "cells": [
  {
   "cell_type": "markdown",
   "id": "62c16e8f",
   "metadata": {},
   "source": [
    "# 필수 과제\n",
    "- 트위터에 대통령 선거 관련된 문자열 데이터 \n",
    "- 대통령 이름도 있고, 여러가지 후보자 이름도 있을 것\n",
    "- 정규식으로 전처리하고, 실제 의미있는 키워드를 빈도를 추출하고\n",
    "- 후보자와 관련이 가장 깊은 키워드는 무엇인지? \n",
    "- 간단하게 시각화하여 실제로 어떤 후보자가 어떤 키워드를 가지고 있다는 것을 보여주세요!"
   ]
  },
  {
   "cell_type": "code",
   "execution_count": 1,
   "id": "1ea85511",
   "metadata": {},
   "outputs": [],
   "source": [
    "import pandas as pd\n",
    "import re"
   ]
  },
  {
   "cell_type": "code",
   "execution_count": 2,
   "id": "f6007886",
   "metadata": {},
   "outputs": [],
   "source": [
    "tweet = pd.read_csv('tweet_jae.csv')"
   ]
  },
  {
   "cell_type": "code",
   "execution_count": 3,
   "id": "3ac322fc",
   "metadata": {},
   "outputs": [
    {
     "data": {
      "text/html": [
       "<div>\n",
       "<style scoped>\n",
       "    .dataframe tbody tr th:only-of-type {\n",
       "        vertical-align: middle;\n",
       "    }\n",
       "\n",
       "    .dataframe tbody tr th {\n",
       "        vertical-align: top;\n",
       "    }\n",
       "\n",
       "    .dataframe thead th {\n",
       "        text-align: right;\n",
       "    }\n",
       "</style>\n",
       "<table border=\"1\" class=\"dataframe\">\n",
       "  <thead>\n",
       "    <tr style=\"text-align: right;\">\n",
       "      <th></th>\n",
       "      <th>status_id</th>\n",
       "      <th>screen_name</th>\n",
       "      <th>created_at</th>\n",
       "      <th>text</th>\n",
       "    </tr>\n",
       "  </thead>\n",
       "  <tbody>\n",
       "    <tr>\n",
       "      <th>0</th>\n",
       "      <td>1295242650363154433</td>\n",
       "      <td>park_pyung</td>\n",
       "      <td>2020-08-17 06:14:46</td>\n",
       "      <td>-&amp;gt; (지난 7개월 동안은 엎치락뒤치락 안 했는데?) 본격화되지 않았던 것\\n...</td>\n",
       "    </tr>\n",
       "    <tr>\n",
       "      <th>1</th>\n",
       "      <td>1294137207121297409</td>\n",
       "      <td>Otranso2</td>\n",
       "      <td>2020-08-14 05:02:08</td>\n",
       "      <td>\"차기선호도 이재명 19% 이낙연 17%…첫 역전\"(종합)https://t.co/n...</td>\n",
       "    </tr>\n",
       "    <tr>\n",
       "      <th>2</th>\n",
       "      <td>1294285873027014656</td>\n",
       "      <td>hyoker3690</td>\n",
       "      <td>2020-08-14 14:52:53</td>\n",
       "      <td>안철수 시즌2라~~~ㅋㅋㅋㅋㅋㅋㅋㅋㅋㅋㅋㅋㅋㅋㅋㅋ [‘이낙연 대세론’ 흔들…이재명,...</td>\n",
       "    </tr>\n",
       "    <tr>\n",
       "      <th>3</th>\n",
       "      <td>1294154164272939009</td>\n",
       "      <td>hyoker3690</td>\n",
       "      <td>2020-08-14 06:09:31</td>\n",
       "      <td>조작미터도 모자라 갤럽까지 제대로 미쳤군.\\n대통령과 당 지지율이 떨어졌는데\\n이재...</td>\n",
       "    </tr>\n",
       "    <tr>\n",
       "      <th>4</th>\n",
       "      <td>1294092935877652480</td>\n",
       "      <td>Sunny38251</td>\n",
       "      <td>2020-08-14 02:06:13</td>\n",
       "      <td>@yonhaptweet SNS로 폭우막는 이재명이랑 수해현장 가서 구슬땀 흘리는 이...</td>\n",
       "    </tr>\n",
       "    <tr>\n",
       "      <th>...</th>\n",
       "      <td>...</td>\n",
       "      <td>...</td>\n",
       "      <td>...</td>\n",
       "      <td>...</td>\n",
       "    </tr>\n",
       "    <tr>\n",
       "      <th>8561</th>\n",
       "      <td>1293704470996557824</td>\n",
       "      <td>QVh027</td>\n",
       "      <td>2020-08-13 00:22:36</td>\n",
       "      <td>이재명이가 추진하고 있는 토지 공개념화에 대한 대법원 판례가 규제를 인정했다고 해서...</td>\n",
       "    </tr>\n",
       "    <tr>\n",
       "      <th>8562</th>\n",
       "      <td>1293706115528527873</td>\n",
       "      <td>hezii631</td>\n",
       "      <td>2020-08-13 00:29:08</td>\n",
       "      <td>인물열전] 이재명에게서 노무현을 보다…“진짜 민주주의를 향한 위대한 발걸음”\\n온라...</td>\n",
       "    </tr>\n",
       "    <tr>\n",
       "      <th>8563</th>\n",
       "      <td>1293704734507859969</td>\n",
       "      <td>junsun88</td>\n",
       "      <td>2020-08-13 00:23:39</td>\n",
       "      <td>@Jaemyung_Lee 믿을 사람은 이재명뿐이요 ㅡ토지거래허가제  당장해서   실...</td>\n",
       "    </tr>\n",
       "    <tr>\n",
       "      <th>8564</th>\n",
       "      <td>1293704250019549184</td>\n",
       "      <td>hjg002</td>\n",
       "      <td>2020-08-13 00:21:43</td>\n",
       "      <td>뻐꾹이와 이재명, 김경수까지 변호를? 그 피데스 동지들이 법을 유린하고 있다 많이 ...</td>\n",
       "    </tr>\n",
       "    <tr>\n",
       "      <th>8565</th>\n",
       "      <td>1293699250342117377</td>\n",
       "      <td>tjrtka7622</td>\n",
       "      <td>2020-08-13 00:01:51</td>\n",
       "      <td>@Jaemyung_Lee 이재명도시사를 응원하는 사람입니다.\\n무엇이든 장단이 있습...</td>\n",
       "    </tr>\n",
       "  </tbody>\n",
       "</table>\n",
       "<p>8566 rows × 4 columns</p>\n",
       "</div>"
      ],
      "text/plain": [
       "                status_id screen_name           created_at  \\\n",
       "0     1295242650363154433  park_pyung  2020-08-17 06:14:46   \n",
       "1     1294137207121297409    Otranso2  2020-08-14 05:02:08   \n",
       "2     1294285873027014656  hyoker3690  2020-08-14 14:52:53   \n",
       "3     1294154164272939009  hyoker3690  2020-08-14 06:09:31   \n",
       "4     1294092935877652480  Sunny38251  2020-08-14 02:06:13   \n",
       "...                   ...         ...                  ...   \n",
       "8561  1293704470996557824      QVh027  2020-08-13 00:22:36   \n",
       "8562  1293706115528527873    hezii631  2020-08-13 00:29:08   \n",
       "8563  1293704734507859969    junsun88  2020-08-13 00:23:39   \n",
       "8564  1293704250019549184      hjg002  2020-08-13 00:21:43   \n",
       "8565  1293699250342117377  tjrtka7622  2020-08-13 00:01:51   \n",
       "\n",
       "                                                   text  \n",
       "0     -&gt; (지난 7개월 동안은 엎치락뒤치락 안 했는데?) 본격화되지 않았던 것\\n...  \n",
       "1     \"차기선호도 이재명 19% 이낙연 17%…첫 역전\"(종합)https://t.co/n...  \n",
       "2     안철수 시즌2라~~~ㅋㅋㅋㅋㅋㅋㅋㅋㅋㅋㅋㅋㅋㅋㅋㅋ [‘이낙연 대세론’ 흔들…이재명,...  \n",
       "3     조작미터도 모자라 갤럽까지 제대로 미쳤군.\\n대통령과 당 지지율이 떨어졌는데\\n이재...  \n",
       "4     @yonhaptweet SNS로 폭우막는 이재명이랑 수해현장 가서 구슬땀 흘리는 이...  \n",
       "...                                                 ...  \n",
       "8561  이재명이가 추진하고 있는 토지 공개념화에 대한 대법원 판례가 규제를 인정했다고 해서...  \n",
       "8562  인물열전] 이재명에게서 노무현을 보다…“진짜 민주주의를 향한 위대한 발걸음”\\n온라...  \n",
       "8563  @Jaemyung_Lee 믿을 사람은 이재명뿐이요 ㅡ토지거래허가제  당장해서   실...  \n",
       "8564  뻐꾹이와 이재명, 김경수까지 변호를? 그 피데스 동지들이 법을 유린하고 있다 많이 ...  \n",
       "8565  @Jaemyung_Lee 이재명도시사를 응원하는 사람입니다.\\n무엇이든 장단이 있습...  \n",
       "\n",
       "[8566 rows x 4 columns]"
      ]
     },
     "execution_count": 3,
     "metadata": {},
     "output_type": "execute_result"
    }
   ],
   "source": [
    "tweet"
   ]
  },
  {
   "cell_type": "code",
   "execution_count": 12,
   "id": "439ccbf9",
   "metadata": {},
   "outputs": [
    {
     "data": {
      "text/plain": [
       "0     -&gt; (지난 7개월 동안은 엎치락뒤치락 안 했는데?) 본격화되지 않았던 것\\n...\n",
       "1     \"차기선호도 이재명 19% 이낙연 17%…첫 역전\"(종합)https://t.co/n...\n",
       "2     안철수 시즌2라~~~ㅋㅋㅋㅋㅋㅋㅋㅋㅋㅋㅋㅋㅋㅋㅋㅋ [‘이낙연 대세론’ 흔들…이재명,...\n",
       "3     조작미터도 모자라 갤럽까지 제대로 미쳤군.\\n대통령과 당 지지율이 떨어졌는데\\n이재...\n",
       "4     @yonhaptweet SNS로 폭우막는 이재명이랑 수해현장 가서 구슬땀 흘리는 이...\n",
       "5                    이재명 지지자건 이낙연 지지자건\\n문재인이 뭐 물렀느니 어쩌니\n",
       "6                                    이낙연은 회피형\\n이재명은 뻥카형\n",
       "7     @Timesegment 유튜브 올렸는데요\\n결론은\\n안철수대표가 \\n이재명대 안철수...\n",
       "8     정치권 화두는 '지지율 희비'···여권 중진들 \"부동산 정책 영향, 딛고 일어서야\"...\n",
       "9     김남국 \"이낙연 의원은 (현안에 대해) 신중한 태도를 보이고 있지만, 이재명 경기도...\n",
       "10    갤럽 \\n\\n더불어민주당 지지층 \\n이낙연 37%  이재명28%\\n\\n통합당 지지층...\n",
       "11    @nylee21 이낙연 의원님이 어서 민주당 당대표가 되셔서 안정을 찾아야 할것 같...\n",
       "12    @nylee21 요즘 이재명 지지자란 것들이 이낙연 의원님에 대한 흑색선전 퍼뜨리고...\n",
       "13    @nylee21 이때다 싶어 정부여당에 총질하는 이재명 박주민\\n\\n저렇게 타 후보...\n",
       "14    @nylee_office @nylee21 문재인 대통령님과 이낙연 의원님-사람이 먼...\n",
       "15    생각해보니...\\n미통당이 민주당을 지지율 역전했다고 언플한 다음날\\n이재명이 이낙...\n",
       "16    이거만 봐도 안다 누가 사이다냐?\\n광복절에 아베 때리는거? 그거 누구나\\n할 수 ...\n",
       "17    오늘 정치신세계에서 이낙연 의원님 말씀들\\n언론 많이 노출될 수 있게 노력좀 하세요...\n",
       "18    이재명 뭐하나. 이재명이 고구마프레임 씌우는 이낙연의원은 할 말 하고 계신데 지는 ...\n",
       "19    차라리 지지율 역전 된게 질된걸 수도 있음\\n이낙연 중심으로 친민주당 친문재인 지지...\n",
       "Name: text, dtype: object"
      ]
     },
     "execution_count": 12,
     "metadata": {},
     "output_type": "execute_result"
    }
   ],
   "source": [
    "tweet['text'].head(20)"
   ]
  },
  {
   "cell_type": "code",
   "execution_count": 19,
   "id": "a666873f",
   "metadata": {},
   "outputs": [
    {
     "name": "stderr",
     "output_type": "stream",
     "text": [
      "C:\\Users\\dlagm\\AppData\\Local\\Temp\\ipykernel_9692\\2749176130.py:2: FutureWarning: The default value of regex will change from True to False in a future version.\n",
      "  tweet['text'] = tweet['text'].str.replace('[a-zA-Zㄱ-ㅎ\\-@&;]',\"\")\n"
     ]
    }
   ],
   "source": [
    "#text에서 영어, 숫자, 불필요한 요소들 제거\n",
    "tweet['text'] = tweet['text'].str.replace('[a-zA-Zㄱ-ㅎ\\-@&;]',\"\")"
   ]
  },
  {
   "cell_type": "code",
   "execution_count": 20,
   "id": "12b99e37",
   "metadata": {},
   "outputs": [
    {
     "data": {
      "text/plain": [
       "0      (지난 7개월 동안은 엎치락뒤치락 안 했는데?) 본격화되지 않았던 것\\n\\n10....\n",
       "1                \"차기선호도 이재명 19% 이낙연 17%…첫 역전\"(종합)://./4\n",
       "2     안철수 시즌2라~~~ [‘이낙연 대세론’ 흔들…이재명, 여권 추락 속 홀로 날......\n",
       "3     조작미터도 모자라 갤럽까지 제대로 미쳤군.\\n대통령과 당 지지율이 떨어졌는데\\n이재...\n",
       "4      로 폭우막는 이재명이랑 수해현장 가서 구슬땀 흘리는 이낙연\\n당연히 이낙연 아닌가...\n",
       "5                    이재명 지지자건 이낙연 지지자건\\n문재인이 뭐 물렀느니 어쩌니\n",
       "6                                    이낙연은 회피형\\n이재명은 뻥카형\n",
       "7      유튜브 올렸는데요\\n결론은\\n안철수대표가 \\n이재명대 안철수\\n이낙연대 안철수\\n...\n",
       "8     정치권 화두는 '지지율 희비'···여권 중진들 \"부동산 정책 영향, 딛고 일어서야\"...\n",
       "9     김남국 \"이낙연 의원은 (현안에 대해) 신중한 태도를 보이고 있지만, 이재명 경기도...\n",
       "10    갤럽 \\n\\n더불어민주당 지지층 \\n이낙연 37%  이재명28%\\n\\n통합당 지지층...\n",
       "11    21 이낙연 의원님이 어서 민주당 당대표가 되셔서 안정을 찾아야 할것 같습니다\\n이...\n",
       "12    21 요즘 이재명 지지자란 것들이 이낙연 의원님에 대한 흑색선전 퍼뜨리고 다닙니다\\...\n",
       "13    21 이때다 싶어 정부여당에 총질하는 이재명 박주민\\n\\n저렇게 타 후보와 당원을 ...\n",
       "14    _ 21 문재인 대통령님과 이낙연 의원님사람이 먼저다<+0001499>\\n\\n언론이...\n",
       "15    생각해보니...\\n미통당이 민주당을 지지율 역전했다고 언플한 다음날\\n이재명이 이낙...\n",
       "16    이거만 봐도 안다 누가 사이다냐?\\n광복절에 아베 때리는거? 그거 누구나\\n할 수 ...\n",
       "17    오늘 정치신세계에서 이낙연 의원님 말씀들\\n언론 많이 노출될 수 있게 노력좀 하세요...\n",
       "18    이재명 뭐하나. 이재명이 고구마프레임 씌우는 이낙연의원은 할 말 하고 계신데 지는 ...\n",
       "19    차라리 지지율 역전 된게 질된걸 수도 있음\\n이낙연 중심으로 친민주당 친문재인 지지...\n",
       "Name: text, dtype: object"
      ]
     },
     "execution_count": 20,
     "metadata": {},
     "output_type": "execute_result"
    }
   ],
   "source": [
    "tweet['text'].head(20)"
   ]
  },
  {
   "cell_type": "code",
   "execution_count": 4,
   "id": "6afc8ae3",
   "metadata": {},
   "outputs": [],
   "source": [
    "from konlpy.tag import Twitter"
   ]
  },
  {
   "cell_type": "code",
   "execution_count": 7,
   "id": "d8833ebc",
   "metadata": {},
   "outputs": [
    {
     "name": "stderr",
     "output_type": "stream",
     "text": [
      "C:\\Users\\dlagm\\anaconda3\\lib\\site-packages\\konlpy\\tag\\_okt.py:17: UserWarning: \"Twitter\" has changed to \"Okt\" since KoNLPy v0.4.5.\n",
      "  warn('\"Twitter\" has changed to \"Okt\" since KoNLPy v0.4.5.')\n"
     ]
    }
   ],
   "source": [
    "twt = Twitter()"
   ]
  },
  {
   "cell_type": "code",
   "execution_count": 17,
   "id": "9aa5fc3a",
   "metadata": {},
   "outputs": [
    {
     "name": "stdout",
     "output_type": "stream",
     "text": [
      "['지난', '개월', '동안', '엎치락뒤치락', '안', '본격', '것', '이재명', '적극', '행보', '이낙연', '행보', '최근', '현안', '대한', '태도', '한번', '보라', '참고', '사랑', '교회', '목사', '관련', '이낙연', '의원', '직접', '기한', '상태', '이재명', '경기도', '대변인', '통해', '언급', '차기', '선호', '이재명', '이낙연', '첫', '역전', '종합', '안철수', '시즌', '이낙연', '세론', '이재명', '여권', '추락', '속', '홀로', '날', '조작', '모자라', '갤럽', '제대로', '대통령', '당', '지지율', '이재명', '오른', '이유', '뭔가', '조작', '이재명', '이낙연', '차기', '정치인', '선호', '역전', '로', '폭우', '이재명', '수해', '현장', '구슬', '땀', '이낙연', '이낙연', '전', '고추', '점', '이재명', '지지', '자건', '이낙연', '지지', '자건', '문재인', '뭐', '어쩌', '이낙연', '회피', '이재명', '뻥카', '유튜브', '결론', '안철수', '대표', '이재명', '안철수', '이낙연', '안철수', '대도', '정치권', '화두', '지지율', '희비', '여권', '중진', '부동산', '정책', '영향', '김', '남국', '이낙연', '의원', '현안', '대해', '태도', '보이', '이재명', '도지사', '사이다', '얘기', '보', '지지율', '것', '유권자', '문제해결', '능력', '가르마', '리더십', '찢빠', '구', '찢', '정치', '갤럽', '민주당', '지층', '이낙연', '이재명', '통합', '지층', '이낙연', '명', '정의당', '지층', '이낙연', '명', '무당', '층', '이낙연', '명', '호남', '이낙연', '명', '부울경', '이낙연', '명', '이낙연', '의원님', '어서', '민주당', '대표', '안정', '이재명', '응', '김부겸', '박주민', '자꾸만', '선', '짓', '요즘', '이재명', '지지자', '란', '것', '이낙연', '의원님', '대한', '흑색선전', '퍼뜨리', '대통령', '정부', '질', '해대', '건', '말', '때', '정부', '여당', '질', '이재명', '박주민', '타', '후보', '당원', '가족', '이낙연', '의원님', '발끝', '태도', '본질', '문재인', '대통령', '이낙연', '의원님', '사람', '먼저', '언론', '먼저', '이재명', '생각', '통', '민주당', '지지율', '역전', '언플', '다음', '날', '이재명', '이낙연', '앞', '민주당', '니', '엿', '얘기', '것', '거만', '누가', '사이다', '광복절', '아베', '그거', '누구', '수', '수구', '공산주의', '자라', '배척', '김구', '선생', '꿈', '언급', '문프', '궤', '잠룡들', '광복절', '메시지', '이낙연', '김구', '꿈', '이재명', '아베', '출처', '머니투데이', '네이버', '뉴스', '오늘', '정치', '신세계', '이낙연', '의원님', '말씀', '언론', '노출', '수', '노력', '좀', '지지율', '거', '문항', '설계', '조사', '기관', '의향', '반영', '거', '언플', '마왕', '이재명', '민주당', '지지율', '기대', '얘기', '거', '그냥', '거', '정신', '바짝', '이재명', '뭐', '하나', '이재명', '고구마', '프레임', '이낙연', '의원', '말', '피부관리', '차라리', '지지율', '역전', '질', '걸', '수도', '이낙연', '중심', '친', '민주당', '친', '문재인', '지지', '세력', '결집', '계기', '삼', '수', '이재명', '위시', '반문', '세력', '구도', '정관훈', '모습', '만주', '이재명', '존재', '감', '문재인', '대통령', '이낙연', '총리', '정말', '당', '대통령', '위', '이', '모든', '책임', '이해찬', '사실', '이낙연', '대표', '반등', '꿰', '뭐', '이재명', '따위', '위해', '이해찬', '질', '거', '이낙연', '대표', '이재명', '일당', '가망', '당', '두', '쪽', '이', '저', '찢찬털빠', '새끼', '꼭', '이재명', '정권', '교체', '이낙연', '정권', '연장', '한국', '갤럽', '이재명', '차기', '대통령', '선', '호도', '이낙연', '앞', '차기', '대선', '이낙연', '진짜', '이재명', '문재인', '대통령', '이낙연', '의원님', '응원', '우리나라', '수', '당', '이', '민주당', '생각', '국민', '사람', '권리', '당원', '이재명', '지사', '공천', '걸', '이후', '당비', '납부', '당원', '무슨', '개', '소리', '광복회', '간', '사람', '누구', '욕', '네', '홍', '낙파', '니', '이낙연', '욕', '쯧쯧', '이낙연', '지지자', '욕', '이재명', '욕', '이재명', '짐', '이재명', '이낙연', '둘', '아주', '손', '잡고', '님', '이재명', '세상', '중심', '입', '헛소리', '거', '이낙연', '왜', '욕', '안해', '이재명', '아주', '난리', '던데', '이재명', '여기', '왜', '나오니', '진짜', '개', '심', '이재명', '충', '이낙연', '항상', '프', '민주당', '이낙연', '의원님', '지지율', '때', '이재명', '통합', '지지율', '이재명', '도대체', '극좌', '극우', '정체', '짬뽕', '것', '의원님', '민주당', '마지막', '희망이', '만약', '이재명', '전략', '의원님', '차기', '대권', '후보', '문재인', '정권', '이후', '민주당', '프', '대한민국', '또', '다시', '헬조선', '지옥', '거', '것', '꼭', '다음', '차기', '이낙연', '야만', '각오', '계속', '민주당', '지층', '이낙연', '의원', '통합', '후보', '역선택', '통합', '지층', '외', '소수', '야당', '지층', '이재명', '지사', '이재명', '선택', '로', '대선', '후보', '민주당', '대선', '후보', '위해', '통합', '팝콘', '네', '지자', '생각안드', '원래', '사이다', '발언', '이재명', '특', '이슈', '몰이', '관', '종이', '쥐', '왜냐면', '지금', '이재명', '지지율', '통', '우세', '역선택', '상승', '거던', '순간', '이낙연', '의원님', '말', '쉬좀', '지지율', '푸욱', '걸', '때', '투표', '날', '전', '마지막', '여론', '조사', '결과', '진짜', '심장', '쫄', '기억', '이재명', '역전', '극도', '보름', '후', '이낙연', '의원님', '대표', '선출', '전', '계속', '유지', '전', '민주당', '통합', '이낙연', '의원님', '못', '이재명', '차기', '후보', '세분', '대통령', '정신', '가슴', '가차', '민주당', '적폐', '교회', '하나님', '뜻', '사이비', '교회', '듯', '적폐', '민주당', '세분', '대통령', '뜻', '사이비', '민주', '당일', '뿐', '요', '차기', '대통령', '선호', '이재명', '이낙연', '역전', '첫', '위', '갤럽', '차기', '선호', '이재명', '이낙연', '첫', '역전', '이해찬', '이낙연', '표', '갈라', '치기', '이재명', '경선', '당선', '계획', '이해찬', '사랑', '트루', '럽', '가슴', '재', '리사', '인정', '좆', '거', '별개', '김어준', '이동형', '유시민', '등등', '회수', '건', '팟캐', '유튜브', '이재명', '물', '생각', '이낙연', '측', '이재명', '이재명', '조직', '대해', '정도', '파악', '의문', '이낙연', '지지자', '친정', '부파', '윤석열', '지지자', '반정부', '파', '대표', '함', '이재명', '지지자', '좀', '여론조사', '달리', '이재명', '민주당', '내부', '비토', '정서', '대통령', '가능성', '이재명', '지지자', '이낙연', '지지자', '윤석열', '지지자', '가능성', '유력', '대권', '주자', '이낙연', '이재명', '윤석열', '이', '세명', '모두', '중도좌파', '내지', '중도', '인물', '운동장', '지금', '운동장', '미래', '통합', '독자', '대권', '후보', '정당', '현', '여당', '미래', '통합', '조차', '것', '무엇', '의미', '이낙연', '이재명', '일단', '박원순', '장례식', '조문', '점', '대통령', '자격', '일', '스스로', '직접', '사람과', '남', '일', '사람', '하늘', '땅', '차이', '문프', '이낙연', '의원', '전자', '이해찬', '이재명', '정세균', '박주민', '사람', '후자', '일', '직접', '사람', '일', '사람', '일', '타이밍', '지시', '꼭', '과잉', '거나', '짐', '블루문', '이재명', '이재명', '경기도', '일', '더', '쓰시', '이낙연', '의원님', '지지', '코스프레', '이재명', '분', '이낙연', '의원님', '나가시', '말', '왜', '신경', '님들', '그거', '차기', '대권', '주자', '선호', '이재명', '이낙연', '앞', '경기', '도민', '대권', '주자', '선호', '이재명', '이낙연', '대통령', '지지율', '아래', '보', '차기', '선호', '이재명', '이낙연', '첫', '역전', '갤럽', '수구', '폐', '걸', '우리당', '시즌', '를', '상보', '한국', '갤럽', '차기', '대통령', '선호', '이재명', '로', '위', '이낙연', '첫', '역전', '매일경제', '통합', '민주당', '앞', '때', '이', '얘', '왜', '새끼', '정치', '관심', '사람', '이면', '이낙연', '대신', '이재명', '지지', '수가', '이재명', '이낙연', '다음', '정권', '교체', '박소희', '기자', '김부겸', '돌팔매', '후보', '대표', '것', '박소희', '기자', '이재명', '지사', '이낙연', '의원', '윤석열', '검찰총장', '안철수', '국민의당', '대표', '홍준표', '무소속', '의원', '순', '이낙연', '의원님', '훗날', '나라', '다운', '람사', '세상', '국민', '전과자', '사기꾼', '이재명', '과', '사회', '거리', '두기', '꼭', '전과자', '사기꾼', '과', '폭망', '웃', '일이', '진짜', '생선', '암', '존재', '이낙연', '이재명', '등', '대권', '주자', '부동산', '문제', '를', '원인', '꼽으', '로우', '키', '설훈', '진성준', '등', '친문', '의원', '일시', '현상', '라며', '시간', '반등', '것', '극우', '선', '민생', '속', '친박', '대표', '계파', '정치', '종식', '이낙연', '이재명', '대선', '주자', '부재', '아쉬움', '일', '일비', '꼭', '정부', '여당', '실정', '때문', '통합', '이유', '상승세', '출처', '뉴스', '네이버', '뉴스', '지금', '여론조사', '거지', '조사', '기관', '차기', '누구', '지지', '시민', '이낙연', '조사', '기관', '차기', '누구', '지지', '고요', '시민', '이낙연', '조사', '기관', '제', '질문', '차기', '이재명', '시민', '나', '이낙연', '지지', '고', '좀', '조사', '기관', '제', '질문', '지금', '선', '진짜', '기득권', '권력', '검찰', '교회', '의사', '협회', '집단', '수장', '단도직입', '줄', '이낙연', '대표', '감', '차기', '진짜', '기득권', '네티즌', '계곡', '정비', '숟가락', '불법', '광고', '물', '허위', '중고', '매물', '따위', '큰소리', '이재명', '비교']\n"
     ]
    }
   ],
   "source": [
    "#어떤 후보자가 나오는지 대강 보기 위해 명사만 추출\n",
    "all_words = []\n",
    "parts = ['Noun'] #명사 추출\n",
    "for i in range(len(tweet)):\n",
    "    text = tweet['text'][i]\n",
    "    words = twt.pos(text)\n",
    "    for n in words:\n",
    "        if n == 'EOS' or n == \"\":\n",
    "            continue\n",
    "        word_tmp = n[0]\n",
    "        part = n[1]\n",
    "        if not (part in parts):\n",
    "            continue\n",
    "        all_words.append(word_tmp)\n",
    "    if len(all_words) >= 1000: #너무 많아서 1000개까지 추출\n",
    "        break\n",
    "print(all_words)"
   ]
  },
  {
   "cell_type": "markdown",
   "id": "42f8645f",
   "metadata": {},
   "source": [
    "- 이재명\n",
    "- 이낙연\n",
    "- 안철수"
   ]
  },
  {
   "cell_type": "code",
   "execution_count": 24,
   "id": "71839c6e",
   "metadata": {},
   "outputs": [],
   "source": [
    "#후보자별 빈도수 높은 키워드 정리\n",
    "#이재명\n",
    "mylist_ljm = []\n",
    "for i in range(len(tweet)):\n",
    "    if ('이재명' in tweet['text'][i]) == True:\n",
    "        mylist_ljm.append(tweet['text'][i])"
   ]
  },
  {
   "cell_type": "code",
   "execution_count": 95,
   "id": "4a665ab5",
   "metadata": {},
   "outputs": [
    {
     "name": "stdout",
     "output_type": "stream",
     "text": [
      "99518\n"
     ]
    }
   ],
   "source": [
    "all_words = []\n",
    "parts = ['Noun'] #명사 추출\n",
    "for i in range(len(mylist_ljm)):\n",
    "    text = mylist_ljm[i]\n",
    "    words = twt.pos(text)\n",
    "    for n in words:\n",
    "        if n == 'EOS' or n == \"\" or len(n[0]) == 1: #길이가 1개인 것도 제외\n",
    "            continue\n",
    "        word_tmp = n[0]\n",
    "        part = n[1]\n",
    "        if not (part in parts):\n",
    "            continue\n",
    "        all_words.append(word_tmp)\n",
    "print(len(all_words))"
   ]
  },
  {
   "cell_type": "code",
   "execution_count": 96,
   "id": "739813c9",
   "metadata": {},
   "outputs": [],
   "source": [
    "all_words_ljm = all_words"
   ]
  },
  {
   "cell_type": "code",
   "execution_count": 102,
   "id": "4f70fd5f",
   "metadata": {},
   "outputs": [
    {
     "name": "stdout",
     "output_type": "stream",
     "text": [
      "['이재명', '이낙연', '경기도', '지사', '민주당', '지지율', '사람', '대통령', '국민', '후보', '코로나']\n"
     ]
    }
   ],
   "source": [
    "dict_ljm = {}\n",
    "list_ljm = []\n",
    "for i in range(len(all_words_ljm)):\n",
    "    dict_ljm[str(all_words_ljm[i])] = 0 #딕셔너리 0으로 초기화\n",
    "for i in range(len(all_words_ljm)):\n",
    "    dict_ljm[str(all_words_ljm[i])] += 1 #개수 세기\n",
    "    if dict_ljm[str(all_words_ljm[i])] >= 500: #500개 이상인 것만 추출\n",
    "        if str(all_words_ljm[i]) in list_ljm:\n",
    "               continue\n",
    "        list_ljm.append(str(all_words_ljm[i]))\n",
    "        \n",
    "print(list_ljm)"
   ]
  },
  {
   "cell_type": "code",
   "execution_count": 117,
   "id": "f28b518e",
   "metadata": {},
   "outputs": [],
   "source": [
    "#한글 폰트 깨짐 방지\n",
    "import platform\n",
    "from matplotlib import font_manager, rc\n",
    "if platform.system() == 'Windows':\n",
    "    font_name = font_manager.FontProperties(fname=\"c:/Windows/Fonts/malgun.ttf\").get_name()\n",
    "    rc('font', family = font_name)\n",
    "else:\n",
    "    rc('font',family='AppleGothic') \n",
    "    \n",
    "%matplotlib inline"
   ]
  },
  {
   "cell_type": "code",
   "execution_count": 120,
   "id": "c7890420",
   "metadata": {},
   "outputs": [
    {
     "data": {
      "image/png": "[encoded data removed]",
      "text/plain": [
       "<Figure size 640x480 with 1 Axes>"
      ]
     },
     "metadata": {},
     "output_type": "display_data"
    }
   ],
   "source": [
    "import matplotlib.pyplot as plt\n",
    "labels = ['이낙연', '경기도', '지사', '민주당', '지지율', '사람', '대통령', '국민', '후보', '코로나']\n",
    "values = [1226,944,988,1015,814,685,718,657,580,506]\n",
    "plt.pie(values, labels=labels, autopct='%.1f%%')\n",
    "plt.show()"
   ]
  },
  {
   "cell_type": "code",
   "execution_count": 121,
   "id": "7b19333c",
   "metadata": {},
   "outputs": [
    {
     "name": "stdout",
     "output_type": "stream",
     "text": [
      "['이재명', '이낙연', '경기도', '지사', '민주당', '지지율', '사람', '대통령', '국민', '후보', '코로나']\n"
     ]
    }
   ],
   "source": [
    "#이낙연\n",
    "mylist_ljm = []\n",
    "for i in range(len(tweet)):\n",
    "    if ('이낙연' in tweet['text'][i]) == True:\n",
    "        mylist_ljm.append(tweet['text'][i])\n",
    "all_words = []\n",
    "parts = ['Noun'] #명사 추출\n",
    "for i in range(len(mylist_ljm)):\n",
    "    text = mylist_ljm[i]\n",
    "    words = twt.pos(text)\n",
    "    for n in words:\n",
    "        if n == 'EOS' or n == \"\" or len(n[0]) == 1: #길이가 1개인 것도 제외\n",
    "            continue\n",
    "        word_tmp = n[0]\n",
    "        part = n[1]\n",
    "        if not (part in parts):\n",
    "            continue\n",
    "        all_words.append(word_tmp)\n",
    "dict_ljm = {}\n",
    "list_ljm = []\n",
    "for i in range(len(all_words_ljm)):\n",
    "    dict_ljm[str(all_words_ljm[i])] = 0 #딕셔너리 0으로 초기화\n",
    "for i in range(len(all_words_ljm)):\n",
    "    dict_ljm[str(all_words_ljm[i])] += 1 #개수 세기\n",
    "    if dict_ljm[str(all_words_ljm[i])] >= 500: #500개 이상인 것만 추출\n",
    "        if str(all_words_ljm[i]) in list_ljm:\n",
    "               continue\n",
    "        list_ljm.append(str(all_words_ljm[i]))\n",
    "        \n",
    "print(list_ljm)"
   ]
  },
  {
   "cell_type": "code",
   "execution_count": 122,
   "id": "f6e1a72f",
   "metadata": {},
   "outputs": [
    {
     "name": "stdout",
     "output_type": "stream",
     "text": [
      "['이재명', '이낙연', '경기도', '지사', '민주당', '지지율', '사람', '대통령', '국민', '후보', '코로나']\n"
     ]
    }
   ],
   "source": [
    "#안철수\n",
    "mylist_ljm = []\n",
    "for i in range(len(tweet)):\n",
    "    if ('안철수' in tweet['text'][i]) == True:\n",
    "        mylist_ljm.append(tweet['text'][i])\n",
    "all_words = []\n",
    "parts = ['Noun'] #명사 추출\n",
    "for i in range(len(mylist_ljm)):\n",
    "    text = mylist_ljm[i]\n",
    "    words = twt.pos(text)\n",
    "    for n in words:\n",
    "        if n == 'EOS' or n == \"\" or len(n[0]) == 1: #길이가 1개인 것도 제외\n",
    "            continue\n",
    "        word_tmp = n[0]\n",
    "        part = n[1]\n",
    "        if not (part in parts):\n",
    "            continue\n",
    "        all_words.append(word_tmp)\n",
    "dict_ljm = {}\n",
    "list_ljm = []\n",
    "for i in range(len(all_words_ljm)):\n",
    "    dict_ljm[str(all_words_ljm[i])] = 0 #딕셔너리 0으로 초기화\n",
    "for i in range(len(all_words_ljm)):\n",
    "    dict_ljm[str(all_words_ljm[i])] += 1 #개수 세기\n",
    "    if dict_ljm[str(all_words_ljm[i])] >= 500: #500개 이상인 것만 추출\n",
    "        if str(all_words_ljm[i]) in list_ljm:\n",
    "               continue\n",
    "        list_ljm.append(str(all_words_ljm[i]))\n",
    "        \n",
    "print(list_ljm)"
   ]
  },
  {
   "cell_type": "code",
   "execution_count": 125,
   "id": "eaf71e16",
   "metadata": {},
   "outputs": [
    {
     "data": {
      "text/plain": [
       "['안철수 시즌2라~~~ [‘이낙연 대세론’ 흔들…이재명, 여권 추락 속 홀로 날...] ://./3',\n",
       " ' 유튜브 올렸는데요\\n결론은\\n안철수대표가 \\n이재명대 안철수\\n이낙연대 안철수\\n그런대도 이긴다고요 ',\n",
       " '이재명 지사 19%, 이낙연 의원 17%, 윤석열 검찰총장 9%, 안철수 국민의당 대표 3%, 홍준표 무소속 의원 2% 순. \\n\\n://./75',\n",
       " '이재명지지자들 중엔 이성적이고 상식적인 사람들이 많을 수 밖에.  이재명 자체가 그러니. 그는 안철수처럼 어벙벙하고 모질하고 칠칠한 스타일도 아니고 문재인이나 이낙연처럼 두리뭉실 답답하고 말만 앞서지도 않으니 지지자가 태극기나 똥파리들과 다를 수 밖에. ://./5',\n",
       " '[폴리뉴스] [한국갤럽] 차기 이재명 오차범위내 역전...이재명19%이낙연17%윤석열9%안철수3% ://./52 \\n\\n지금껏 행정력 하나만으로 대권후보 1위한 사람이 없었다. 우리는 지금껏 보지 못했던 새로운 유형의 대권후보를 마주하고 있다. 이재명은 전설이다',\n",
       " '이재명 1위? 후훗 안철수때랑 흐름 똑같네. 민주당 지지자보다 미통당과 정의당, 극좌 극우꼴통들한테 지지받는걸로 나오는 이재명. 현재 미통당 변변한 후보없으니 이재명띄워 이낙연 견제하는데 기레기들과 진보일베 보수일베 함묵적 동의로 움직이는데 그래봤자 안초딩 시즌2다',\n",
       " \"차기 선호도 1위 '이재명 19%'<+0001947>, 이낙연 17%<+0001948>\\n이어 윤석열 9%<+0001949>, 안철수 3%, 홍준표 2%\\n#대권선호도 #이재명 #여론조사\\n://./4\",\n",
       " '이재명\\n이쯤이면 기본소득당에 갔어야 맞지않나...\\n통합당이 이재명과 스탠스를 맞추네\\n다음은 민주당 이낙연과\\n외연확장한 통합당 이재명\\n그리고 안철수...\\n이렇게 대선 시작할듯',\n",
       " '이낙연은 딱 거 누구더라. 유엔 사무 총장 하던 양반 꼴 아닌가. 이름도 생각 안나네. 곧 잊혀지겠지. 자 이제 호남이 이재명을 지지할까. 민주당은 곧 자중지란으로 빠진다. 이래서 안철수의 바른정당과 합당이 큰 실책. ://./9',\n",
       " '나는 안철수를 지지하는 골빈 것들이 아직까지 있다는 게 충격이다_\\n\\n차기 대선주자 선호도는 민주당의 이낙연 의원 22.8%, 이재명 지사 21.4%, 홍준표 의원 5.2%, 안철수 대표 4.7% 순으로 나타났습니다.\\n\\n무선 전화면접(100%) / 응답률 : 22.7%(4,444명 중 1,007명 응답)://./403',\n",
       " \"한국갤럽 최근 여론조사, 대통령직무 부정 53%, 긍정 39%, 정당지지율 민주 33%, 미통 27%, 무당층 27%, 정의 6%, 열민,국민 각 3%. 차기 대권주자 지지율, 이재명 19%, 이낙연 17%, 윤석열 9%, 안철수 3%, 홍준표 2%다. 문재인 정부, 민주당 아직 늦지 않았다. 지금이 바로 '心機一轉'해야 할 기회다. ://./14\",\n",
       " '1 5454 * 한국갤럽\\n* 차기 정치지도자 선호도 조사\\n* 후보명 불러주지 않고 자유응답을 받은 결과\\n\\n* 이재명 19%  이낙연 17%  윤석열 9%  안철수 3% \\n\\n* 이낙연은 민주당 문재인 지지율, 호남과 연동. \\n* 이재명은 남성, 3040대, 인천경기',\n",
       " '* 한국갤럽\\n* 차기 정치지도자 선호도 조사\\n* 후보명 불러주지 않고 자유응답을 받은 결과\\n\\n* 이재명 19%  이낙연 17%  윤석열 9%  안철수 3% \\n\\n* 이낙연은 민주당 문재인 지지율, 호남과 연동. \\n* 이재명은 남성, 3040대, 인천경기 ://./1',\n",
       " '갤럽 여론조사에서 이재명 경기지사(19%)가 이낙연 전 국무총리(17%) 지지율을 앞질렀습니다. 이 전 총리 다음으론 윤석열 9%, 안철수 3%, 홍준표 2% 순.\\n\\n://./7',\n",
       " '다음 대통령으로 누굴 지지하시겠습니까?\\n\\n1번 이재명\\n2번 윤석렬\\n3번 김종인\\n4번 안철수\\n5번 진중권\\n.\\n.\\n.\\n10번 이낙연\\n\\n구라미터 택수놈아\\n\\n이렇게 설계된 여론조사를 믿으라고?',\n",
       " '코로나 창궐 시기가 성수기인 정치인\\n이재명 안철수\\n왜냐??',\n",
       " '심상정 이 국회 집어논 기집년들 보면\\n\\n일베성향인것보면\\n\\n심상정과 정의당이 추구하는건\\n\\n결국\"대통령직도 오직 사익을 위해 쓴\"이명박\\'인거\"다.\\n\\n이재명 이해찬 심상정 김어준 주진우 김용민 이택수도\\n\\n결국 안철수 박경철처럼\\n\\n이명박이\\'롤 모델\\'인거다.',\n",
       " '강연재이라는 분이네,,,\\n난 또 고민정 씨인줄 알았어\\n\\n생김새 닮은 꼴(싱크로율 70프로 이상만)\\n\\n윤석렬안철수\\n진중권여상규\\n강연재고민정\\n광복회장설운도\\n전광훈이재명\\n박주민쿠엔틴 타란티노\\n윤미향주진우\\n김어준옴\\n봉준호유현진\\n최민희식물 대 좀비\\n\\n\\n\\n://./',\n",
       " '토 나오는 새끼들이 한가득.\\n\\n개신교 쓰레기들,\\n개독 광신도들,\\n수꼴 미통당,\\n틈새 뻘소리 안철수,\\n쓰레기 기사 쏟아내는 기더기들,\\n전대 미루자는 이해찬 새끼들,\\n김 빠진 사이다 이재명 중고차딜러,\\n손가락 잡아 꺾고 싶은 짭의사 새끼들\\n\\n정화조 뒤집어 놓은 듯 더럽구만.',\n",
       " '안철수는 뻔히 보이는 사실을 외면하며\\n정부를 비난하고\\n이재명이는\\n쓰나미가 몰려들길 바라는 마음 같이\\n떠들고 있다\\n\\n안철수는 정부를 비난하기에 앞서 자봉으로 솔선수범하고\\n이재명이는 니 자치구나 완벽히 관리하며 떠들기 바란다',\n",
       " '0528 이재명은 안철수와 맞지 않음. 서로 보완관계도 아니고. 아마 이재명 정권에서 안철수가 그럴듯한 야당 하게되겠죠.',\n",
       " '이재명 한테 전두환이니 이명박이니\\n하는데 안철수한테는 히틀러 라던\\n때가 있었지 \\n두 등시니가  그냥 꼴값떠는거',\n",
       " '  이분 안철수지지하더니\\n이재명으로 갈아탔네 \\n그게 수순이죠 지능순 ',\n",
       " '점돌이이재명 대통령놀이 많이해라\\n아 옛날이여 할때가 올거니까\\n안철수처럼 말이지',\n",
       " '버스비 올리고\\n계속 평사이나 쫓아 다니고\\n이제 중고차.....\\n이재명의 도정은 참 안철수의 달리기 같다',\n",
       " '전광훈,미래통합당,진중권,이재명,안철수,심상정의당,목수정 등 인간들사이엔 아무차이가 없다.모두 정부비난을 젖줄로 자기생명을 연장하는 기생충이다.연대가 필요할땐 분열의 포퓰리즘만 던지는 대역병의 트럼프,구체적 대안이 요구될땐 귀에 달콤한 무익한 선동의 독만 주입하는 오셀로의 이아고.',\n",
       " ' 한걸레 씨불것들 정부일엔 비열하고 악의적인 기레기짓만 하더니 이재명이 조디만 달싹하면 미친듯이 기사써준다. 안철수 때보다 더하다. 반문에 현금연대까지 되는 놈이 등장하니 좋아죽는구나. 눈물난다 걸레들아!!',\n",
       " '이재명, 안철수, 전광훈 이런 아류들은\\n冬扇夏爐, \\n즉 겨울 부채, 여름 화로 같이 쓸데없는 물건이면서\\n나대길 좋아하고 소리가 요란한~~~<+0001616>',\n",
       " '손서키는 안철수 빨던 새끼. \\n털보는 안철수, 이재명 빠는 새끼. \\n\\n재미있는 건 둘다 누굴 지지 했는지 다 알지만\\n마치 중립인것처럼 행동한다는 거. ://./082',\n",
       " ' 분석력  뛰어난 스미더스 정치학박사도 오늘유튜브 보니깐\\n이재명  이낙연 누가나와서\\n안철수대표가 이긴다고\\n찜찡하지만 여러번 낙선해서\\n국민들이 찍어준다고?\\n아마도 이런의미 였던것 같아요 \\n분석력은 저는  인정합니다만 ',\n",
       " '20 물론, 전혀 어울리지 않고 지향점도 다르지만  \\n안철수에겐 조직과 힘이 있고 이재명은 그에겐 없는 정의감과 냉철함, 그를 실천할 행동력이 있지 않음?...',\n",
       " '이제 와서 보니..\\n민주당이 지금처럼 망가지지는 않았던 오래전부터 극강 발언을 해오던 자들은 거의가 안철수 지지자였다. \\n그들은 이젠 이재명을 까고 있음. 개인적으론 저도 그가 민주당을 떠나 그의 신당을 만들길 희망함.\\n안철수와 손잡는 것도 나쁘지는 않고..<+0001644><+0001644><+0001610>',\n",
       " '21 우리가 저 좌우쓰레기들과 싸울 수 있는 유일한 방법은 뿐입니다. 우리와는 급이 다른 의원님의 묘수를 기대합니다. 전광훈 김어준 안철수 이재명 윤석열 강용석 이 따위 것들과 완전히 떨어져 살수는 없지만 최소한 저 따위 것들이 나라의 중심에서 나라를 좌지우지 못하게 해주시길 바랍니다.',\n",
       " '오늘\\n민노총 최초 여성 위원장이 꿈이라는 간호사 하나와\\n안철수빠였다 이재명빠로 전향한\\n택배기사 하나가\\n하루종일 싸질러놓은 오물덩어리에\\n쓴소리, 싫은소리 등을 뱉었더니 하루를 안넘기고 벽돌을 던져버리네.\\n그런 마인드로 여기 사람들을 가르치겠다고 꼰대질에 협박성멘트를 서슴없이 날리다니',\n",
       " '_ 국민들이 진짜 나락까지 떨어져봐야 정신차릴 것 같아서요. 사실 이재명까지 겪고나면 안철수외엔 딱히 난국을 극복하고 미래를 개척할 인물도 안 보일 겁니다. 미통당이야 김종인 나간 직후부터 휘청거리다가 폭망할 것 같고요.',\n",
       " '난 안철수가 대통령되려면 이재명이  대통령되는 게 우선 아닌가 싶다. 이재명으로 진짜 막장까지 가봐야 국민들이 정신차리지 않을까 싶고. 미통당이야 김종인 나가면 그세 정신못차리고 폭망 직전까지 갈 것처럼 보여서...',\n",
       " '안철수는 자꾸 기웃거리며 혁신어쩌고 하는데 이미 10년쯤보니까 허황인거 알고\\n이재명이 자기네말 잘들으니까 키울려고 해도 지은죄가 많아서 이명박같이 키워줘야 가능성있는데\\n이명박같은 영리함따윈 없는데다 그시절의 위세도 못되고 그시절의 약한 민주당도 아님',\n",
       " '301411 1822 이수정교수가 아주 학을 뗐겠다.\\n안철수 , 이재명만큼 문베충들 한테  치가 떨리게 당한 사람은 아즉 없....\\n아주 지긋지긋해.',\n",
       " '이재명이를 박원순대행에서 면하고 안철수를 시장에 임명함. 재명이 불필요 거짓말 하지마라\\n\\n무형제국 황제 무형황제 20200819수 \\n\\n뉘    헨리 김 6397 (), +825044916397  ://./05 ://./067',\n",
       " '탄핵 제일 먼저 이야기한 게 \\n\\n안철수라고\\n(난 이재명이라 생각했는데)\\n\\n....\\n그러니\\n\\n나라 망하던 말던\\n이 사탄파들 추진하는건 \\n딱 2개야\\n\\n사기탄핵 묻는거랑\\n내각제',\n",
       " ' 짜왕!  민주당 후보, 이재명, 미통당 후보, 윤짜장, 킹종인, 반기문, 안철수  다 함 붙어봐라!',\n",
       " ' 한겨레가 그나마 그동안 먹고 살수 있었던 거야 말로 새누리당 계열의 정당의 나쁜 정치였던 건 맞다. 그러나 문재인 대통령 당선 이후 한겨레의 악의에 가득찬 그간의 보도와 이재명, 안철수 띄우기에 혈안의 된 모습에 한겨레의 설자리는 앞으로 차츰차츰 사라지게 될 것. ',\n",
       " '#문재인이 트레킹 떠날때는\\n이미 범죄 작전 개시가 된것\\n\\n2013..12년말 #대선참패 후 \\n<+00014>범죄 공작 기획\\n2014..안철수 제거가 궁극적목표\\n2015..문재인 당대표 부각 \\n\\n대깨문 보듯,그들의 적은 외부아닌\\n내부 친문독점권력 위협하는\\n안철수 이재명\\n살해 제거 놓고 고민했을 것\\n://./258',\n",
       " '진중권 안철수 김종인 이재명은 무조건 싫다.',\n",
       " '1 이재명을 까 누르면 안철수가 된다는 착각이 팽배해요',\n",
       " '진중권 변신은 노사모였던 변희재의 변신보다 더 급격하다. 고작 조국에 대한 열등감때문에 하루아침에 일베용어쓰며 노무현, 문재인 대통령 비하하고, 미통당, 안철수 행사에 가서 정부까고 진중권 꼬라지 참 비루하다. 이재명빠인 진중권이 이 비루한 꼬라지로 반민주당하면서 이재명 빨면 잼나겠네',\n",
       " '이재명 지지율은 안철수 때와 비슷하군\\n역시 미통당의 희망이야 이재명',\n",
       " '김남국을 보면\\n안철수와 이재명을 묘하게 섞어 놓은거 같음',\n",
       " '안철수지지층도 친이친박 지지층이많았지 이재명김부겸도 그렇고',\n",
       " '안철수 기사로 도배되었던 시절 기레기들은 그래도 조금 양심이라도 있지 최소한 안철수는 전과자는 아니였자나\\n근데 지금 이재명 바는 기레기들은 이명박 빨던 기레기들보다 악날한 것 같아 이건 뭐 김일성 찬양기사보다 더 흉측하게 빨아대니 역겨워서 볼 수가 없다',\n",
       " ' 어이 기레기 니들은 이재명 뒷광고 오지게하면서 무슨 개소리야? 니들 뒷광고 하는게 어디 오늘 내일이냐?\\n안철수 뒷광고도 오지게 했자나\\n니들이 유튜버들 까댈려면 일단 최소한 방송국 문은 닫고 해라 \\n양심에 쥐새끼 똥꼬털보다 없는 것들이',\n",
       " '당연히 대깨문이 최악이지만 안철수든 이재명이든 대문에 누구누구 지지, 누구누구 존경이라고 써놓은 작자들도 잠재적 대깨 ×들이다. ://./3',\n",
       " '안철수나 이재명 지지라랍시는 뇬들도 맛가보였음 \\n러버덕',\n",
       " '불륜남은 이제부터 언론과 함께 미쳐 돌아가겠지만 함 봐라 넌 절대 안돼. 그냥 그런 느낌이 들어.\\n\\n조중동한경 모두 하나가 되어 지지했던 인물 \\n이명박, 안철수에서 이재명으로 \\n이런 거 보면 언론들 생리 참 재미있어\\n\\n개별적으로 괜찮은 기자 빼고는기자집단 수준이 전체적으로 너무 하향평준화지',\n",
       " '10041 520 6870 엠빙신 정신 차린다고 나설 때 다 찢끄러기들이 장악한 걸로 알아요. \\n그래도 넘 걱정하지 않아도 되는 게, 손석희가 안철수를 얼마나 대놓고 예뻐했나요, 그럼에도 안철수는 영구쇼만 했었죠. \\n이재명은 저질삼류조폭호로물을 해댈 거고... 재미없죠, 누가 사겠어요. 돈주고 가지래도 안가질 것!',\n",
       " ' 오랄리에서 선풍기 아재로~ \\n몸으로 개그를 하는구나, 안철수를 능가하려고! 잘 하고 있다, 이재명씨!',\n",
       " '7 이재명씨, 당신이 사라지면 저절로 좋은 나라가 될 거예요. \\n말로만 떠든다고 뭐가 되는 게 있나요? \\n경기도가 재난지원금 없다고 정부 공격하면서, 무슨 부강한 나라 운운, 웃기지도 않아요! 안철수는 그래도 좀 웃기기라도 했는데!',\n",
       " '24 흐흐흐 ~ 지선때부터(이재명의 암울했던 시기)자신들의 불안한 미래(고문과도 같은 협박)를 걱정하면서도 굴하지 않고 지금까지 이재명을격하게 지지했던 많은분들이 진정한 애국시민입니다\\n이제와서 말을 거드는사람들의 언행에 이지지자들을 그리 폄하하시면 무지 섭하지요 안철수지지자인가 봐용 ^^',\n",
       " '이재명 지지율? \\n지금 정의당 대선주자 없지? 그거 이재명꺼 \\n지금 미통당 대선주자 없지? 그중 일부 이재명꺼\\n정혐층 그리고 안철수 빨던 정알못. 그거 이재명꺼. \\n20,30 일베남자 그거 이재명꺼. \\n물론 민주당 당빠 세력도 있다. \\n\\n한마디로 말하자면 잡탕 지지율의 합이라 말할수 있다.',\n",
       " '사람들이 민주당에 대해서 잘 모르는데, \\n과거 노통 대선경선에서 \\n민주당 대선후보로 국민들이 선출했음에도 불구하고\\n후단협만들어서 정몽준 밀었던 개새끼들임. \\n그 이후에 정동영, 안철수, 이재명까지 \\n쓰레기만 보면 아주 환장을 하는 그런 족속들임. \\n오프 온라인 어디든 시민들에게 달렸음.',\n",
       " '팔로워 숫자에 별로 연연은 안하는데 오늘 보니 500명 가까지 줄었네 그런데 웃기는건 어느 순간 그 많던 안철수 지지자들 이재명 지지자들 글이 안보이더라니 가끔씩 하는 맞팔 아닌사람들 정리 한 효과인가 보네',\n",
       " '이재명은,\\n제2의 안철수이고,\\n김한길이고,\\n제2의 김종인 이라고 보입니다!',\n",
       " \"대통령, 민주당 지지율 떨어지면 '이때다'싶어 숟가락 얹을 여권 정치인이 딱 한 놈 있는데, 바로 그 놈이네. 야권은 말해 뭐 하나. 낄낄빠빠 못하는 정치인으로 딱 한 사람. 안철수. 여권 정치인은 두 말 할 것 없이 이재명이고.\",\n",
       " '24\\n 이재명 올려치기 극에 달했네.\\n이동형이 시키드나?\\n이재명 올려치기 하는 너희들 안철수도 그렇게 올려쳤지? \\n곧 땅치고 후회할거야.\\n이재명의 지지율은 미통당의 역선택이 있다는걸 왜 의도적으로 무시하냐?\\n샘플도 거짓말해서 시청자들을 속이네?\\n결국 조폭똘마니 노릇을 하냐?',\n",
       " '19551022   이재명이 자리 잡는 것 보다 문재인 정부 망하는게 목표인  동병상련 팀의 분열 선동\\n\\n1. 동병상련팀이 논란을 일으킴\\n2. 해명하는 순수 이재명 지지자들을 대깨문과 같다며 분열\\n3. 나는 동병상련팀이 확대되는 것이 싫으니 강하게 경계\\n4. 동병상련 팀에 안철수 지지자들이 들어가 부추김',\n",
       " '재명이 대선 경선 탈락하면\\n바로 미통당으로 뛸거야.\\n이재명,윤석열,홍준표,안철수\\n김종인 이렇게 5명. \\n재명이 와 석열이가 경합하겠지.',\n",
       " '하여간 안철수 지지자들 대구빡은 돌대구빡. 말 몇마디 하고는 차단. 한두번도 아니고 번번이 이재명 까고 싶으면 전체적인 상황속에서 정말로 잘못하는 걸 가지고 까라 아니면 자신이 바보라는 걸 증명하는 것일 뿐이니까 난 정말 말도 안되는 걸로 안철수를 까 본 적은 없다. 깔 게 널렸어도 말이다.',\n",
       " '05. 것은 같다고 보았어요. 그러나 안철수는 문재인보다는 그래도 똥물에서 덜 첨벙거렸던 겁니다\\n\\n그 이유 하나로 차라리 안철수가 낫다고 보았습니다. 그리고 이제는 이재명을 밀어야 한다고 저는 말합니다.\\n\\n이제까지는 누구는 안된다라고 했지만 이제는 이재명이어야만 한다고 말합니다. 왜일까요?',\n",
       " '그리고 안철수 워딩 강도를 이재명 수준으로 바꾸라는데 안 바뀌는 거 알면서...\\n내 마음이 그냥 그런 파쇼적인 면을 원하는 건데 평생을 온건하게 살아온 사람한테 요구하는 게 지나친거지.\\n지지자들이라도 그가 말하는 내용을 보자고.\\n막상 이재명처럼 해봐. 또 따라하네 안 어울리네 조롱하지. ://./',\n",
       " '지켜봐주십쇼! 안철수와 문재인을 아우르는 확장성! 탄압 부패 불통의 아이콘 이재명을 남양주시장이 이깁니다. 보수신문과 야권에서도 도와주세요.',\n",
       " '이재명은 제쳤고, 우리 엄중이 다음 목표는 윤석열이다. 윤석열 거기 딱 기다려. 우리 엄중이 곧 내려간다. 가자 씨바꺼 안철수도, 홍준표도 다 제껴뿔자. 아무것도 하지않는 자의 본때를 보여줘뿔자.',\n",
       " '문재인조폭단\\n#제거살인_범죄해결 \\n<+00014>집단 외\\n▶<+0>라이벌 정치집단..살인제거 불가, #딜_시도\\n▶<+0>검찰총장..불가\\n\\n<+00014>집단 내\\n최악상황..보스 바쳐 한방 해결 #노통\\n\\n▶<+0>비주류 목숨..#가장쉬운_먹잇감\\n#노회찬_정두언_박원순\\n<+2714><+0>안철수..친문쪽에 설때 위험\\n<+2714><+0>이재명..위험한 처지\\n://./002',\n",
       " ' 08961 대통령병 걸린 안철수,이재명',\n",
       " '안철수든 미통당이든 이재명빠든 맨날 하는 소리가 문파들이 사실은 문프 조종하에 조직적으로 움직이고 있다는 건데 이거 안 그런 거 뻔히 알면서도 하는 거짓 선동임. 지지자들끼리 싸움 붙이려는 거. 문프 보고 독재니 공산주의니 하는 거랑 같은 맥락. 뻔한 개소리로 아베한테 엔화 구걸하는 거.',\n",
       " '내주변피셜, 안철수 지지하던 놈들 지금 이재명 지지함',\n",
       " '\"마른 하늘에 날벼락\"이라는\\n말을 참 많이 들었는데..\\n\\n돈벼락이랑 같은 뜻인가? \\n그 날벼락을 꼭 선물해주고\\n싶은 인간들이 있다\\n아주 간절하게..\\n\\n이재명\\n윤석열\\n한동훈\\n김부선\\n진중권\\n안철수\\n.\\n.\\n겁나 많았는디..\\n\\n짜증이 잔뜩 난 못된 할배는\\n이만 물러갑니다\\n모두 좋은 밤 되세요~~!',\n",
       " ' 기레기들의 픽은 안철수,이재명. 한결같네..',\n",
       " '실력도 비전도 별볼일없던 안철수를 반문재인 대항마란 이유만으로 언론에서 키워주었고, 거기에 빌붙어 한자리 차지하려고 했었던 김근식, 강연재등의 미래가 미통당과 전광훈을 비롯한 태극기  세력이었듯이, 친구비에 의한 기더기들의 띄워주기에 의한 이재명과 그 일당들의 미래도 이와 같을것.',\n",
       " '진중권같은 이와 장단 맞추는 막장을 보고도 미련 못버리는 안철수 빠들도 안습, 자기 생매장 시키려한 조폭들한테 연일 아부중인걸 정치인의 전략이니 빅픽쳐니 하고 쉴드치며 정신자위 중인 이재명 빠들도 안습. 안습을 넘어서 정치인은 무엇으로 망가지는지가 뚜렷하니 희망이 없다. 흐흐흐',\n",
       " '사실상 하는 일 없는 이재명도\\n수재현장 자원봉사나 가라우!\\n그런데 안철수가 조용하네! 선거 때가\\n아니라서? ://./79',\n",
       " '참으로 교활한 민주당 사람들!\\n윤미향\\n이재명\\n참으로 교활한 미통당 사람들!\\n나경원\\n이언주\\n참으로 교활한 기타 사람들\\n안철수 진중권 윤석열',\n",
       " '이재명의 과한 언론노출... 대선 전 안철수를 띄워주던 작전',\n",
       " ' 안철수와 이재명은 샴쌍둥이',\n",
       " '언론이 과대포장해서 만든 거품\\n이명박, 박근혜, 안철수, 이재명, 윤석열',\n",
       " '이재명은 지금 설쳐봐야 되지도 않으면서\\n안철수 꼴 나고 만다는 것을 알고\\n자신을 양심의 거울 앞에 다시 세워 보고\\n어설픈 전술이나 전략으로\\n국민을 조롱하려 들 지 말기 바라란다.\\n이재명은 현재 수준만 보면\\n부족함이 더 크다는 것을 스스로 알기 바란다!',\n",
       " '_ 아냐. 이 사람 안철수 지지자 아니야. \\n그냥 안철수도 이재명지사도 다 눈여겨 보는 느낌?\\n근데 형이랑 이번에 맞팔되었나봐. \\n맞팔해줘서 고맙습니다. 딱 이말만 했는데 뭐 이니그마란 새끼가 지랄했나봐. \\n나도 뭐라고 했는 지 보려니까 계폭한 듯',\n",
       " '이재명 띄우기가 안철수 때를 넘어 섰네...\\n',\n",
       " '안철수 이재명 지지하는 사람들 지능이 궁금하다.',\n",
       " '내가 이재명을 비판하니 뭐 안철수 지지자냐 혹은 미통당쪽 인간이냐라는 거친 질문들이 오는데 천만에 말씀이시다\\n난 쭈~욱~ 모든 선거에서 민주당 후보들을 지지해왔음\\n내가 완전 꼭지가 돈 계기는 조국 사태와 그걸 억지로 덮으려 지랄발광하던 인간들땜에\\n한마디로 수십년 믿었던 선배한테',\n",
       " '안철수 때는\\n사람들이 그의 실체를 몰라 지지했다면,\\n\\n이재명 때는\\n그의 실체를 스스로가\\n적극적으로 왜곡하여 지지하게 만든다.\\n\\n다만 다행인 것은,\\n박근혜 이후로 국민들은\\n항상 정치인들을 의심한다는 것이며,\\n\\n이재명은 그 감옥에서\\n절대 벗어날 수 없다는 것.',\n",
       " '안철수 지지자랑 이재명 지지자 두 집단을 모아두면 나라 말아먹는건 잘 할듯.',\n",
       " '이재명 지지자가 안철수 지지자 보다 더 싫어요 ://./379',\n",
       " '인간은태어날적에그릇이정해진다!천성이정해진다.귀한상!천한상!사악함!정의로움!얼굴과눈초리에그데로나타난다!아무리얼굴에떡칠을해도.아무리사악한무리들이조작을해서띄워도아무리세치혀로미사여구를내밷어도.민심인천심은얻지못한다.이명박근혜를보라안철수를보라홍준표를보라 이재명반기문을보라',\n",
       " '8 안철수 대표의 사이다 발언이 주요 방송 뉴스에서 안 다뤄져서 대다수의 국민들이 모르지  솔직히 이재명 지사 보다 요즘 안철수 대표의 발언이 더 사이다 발언이죠. 안 대표가 조금 더 주목을 받을 수 있도록 큰 물에서 활동을 했으면 합니다.',\n",
       " '민주당 지지율 떨어지는거 통합당으로 가고. 대선주자 지지율 이재명, 윤석렬은 올라가는데 안철수, 국민의당 박스에 갖혀있는거 나쁜 시그널로 보인다. \\n대중에 맞게 정치해야 한다고 봄. \\n너무 깨끗한거 말고 융통성도 있어야 한다고 생각. 통합당 중도 보수로 갈수록 국민의당 자리 좁아지는거 같음',\n",
       " '5 똘마니들.. 하여간 언론이 급하게 띄어주는 애들(안철수, 이재명, 진중권, 윤석렬)은 다 쓰레기라는것만 알면됨..',\n",
       " \"지금까지 내내 까이기만했던 언론과 그 세력들이 여론조사를 들이대며 '레임덕' 총공세를 펴는 모양새다.\\n\\n예전 안철수 띄워주다 버린 것처럼, 지금은 이재명을 하늘이 아니라 우주로 날려보내 줄 기세다. 하여튼 제 이익을 위해선 국민 갈라치고 선동하고 프레임짜는데는 선수인 쓰레기들!!\",\n",
       " '2 저도 민주당 지지자이지만 이재명 씨는 지지하지 않아요. 싫어하지는 않지만 안철수 씨가 의사와 까지가 그의 최종능력이었다면 이재명 씨는 시장 정도까지 많으면 도지사까지가 어울리는 자리라고 생각합니다. 다들 분량에 맞게 삽시다.',\n",
       " '79936323  미통당가면 이재명 대선 후보되겠네요.. 혹시 안철수랑 경선하는 게 두려워서 못 가는 건 아니겠지요??',\n",
       " '이재명만큼 언플하는 이는 처음 본다.\\n안철수한테도 이 정도로는 안했던 거 같은데?<+0001611>',\n",
       " '나는\\n이재명홍준표 홍준표\\n이재명반기문 반기문\\n이재명안철수 안철수\\n이재명윤석렬 제 3자\\n이렇게 뽑는다.\\n://./378',\n",
       " '이재명씨가 일 잘하는건 알겠는데, 돌아가는 모양새가 지지난 대선에서 안철수의 역할을 재현할 것 같아 기분이 안 좋다..',\n",
       " '진중권이 이재명 안철수를 좋아하는 이유?간단하다.이재명은 돈되는 일거리를 자주 줬잖아.그리고 안철수는 부자잖아.언젠가 돈되는 일이 생길거라는 확신이 있는거지.진중권의 쉴드기준은 자기한테 돈이 되느냐 아니냐?이지.대표적인 예가 최성해였지.',\n",
       " '6210 내가 당신에게 놈이라고 불릴 이유도 없거니와 조사는 왜 내가해야되는데? 그리고 내글위의 안철수에게 초딩이라고 놀리는 이재명지지자에게 한말을 당신이 왜 발끈해서 뭐라하는데?  그리고 정말 궁금해서 그 지지자의 의견을 묻는다는 생각은 안드니? 당신이 반말로해서 나도 반말로 한다.',\n",
       " '언론이 아무리 찬양해줘도 그릇을 스스로 드러내 자멸하는 인생들을 계속 봐왔더니. 안철수 반기문 홍정욱 윤석열. 이재명씨 미래도 보이네요. 이건 싸이언쓰.']"
      ]
     },
     "execution_count": 125,
     "metadata": {},
     "output_type": "execute_result"
    }
   ],
   "source": [
    "mylist_ljm"
   ]
  },
  {
   "cell_type": "markdown",
   "id": "bfbbf3ed",
   "metadata": {},
   "source": [
    "위의 리스트를 보면 후보자의 이름인 이재명, 이낙연, 안철수가 한 글에 같이 \n",
    "등장하는 모습을 많이 볼 수 있다. 따라서 후보자 세 명과 관련된 키워드는 동일하게 나온다."
   ]
  },
  {
   "cell_type": "code",
   "execution_count": null,
   "id": "bc18311e",
   "metadata": {},
   "outputs": [],
   "source": []
  }
 ],
 "metadata": {
  "kernelspec": {
   "display_name": "Python 3 (ipykernel)",
   "language": "python",
   "name": "python3"
  },
  "language_info": {
   "codemirror_mode": {
    "name": "ipython",
    "version": 3
   },
   "file_extension": ".py",
   "mimetype": "text/x-python",
   "name": "python",
   "nbconvert_exporter": "python",
   "pygments_lexer": "ipython3",
   "version": "3.9.13"
  }
 },
 "nbformat": 4,
 "nbformat_minor": 5
}
