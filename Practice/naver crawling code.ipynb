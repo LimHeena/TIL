{
 "cells": [
  {
   "cell_type": "code",
   "execution_count": 1,
   "id": "41ccf215",
   "metadata": {},
   "outputs": [],
   "source": [
    "# 필요 모듈 임포트\n",
    "import requests\n",
    "from bs4 import BeautifulSoup\n",
    "import pandas as pd"
   ]
  },
  {
   "cell_type": "code",
   "execution_count": 2,
   "id": "f67d66a2",
   "metadata": {},
   "outputs": [],
   "source": [
    "URL = \"https://search.shopping.naver.com/search/category/100010851?brand=10716%20967%20178498%2014696%2012008%20157292%2012034%20113254&catId=50000177%2050001472&iq=%EB%82%A8%EC%84%B1&origQuery&pagingIndex=1&pagingSize=40&productSet=&query&sort=rel&timestamp=&viewType=list\""
   ]
  },
  {
   "cell_type": "code",
   "execution_count": 3,
   "id": "f7644336",
   "metadata": {},
   "outputs": [
    {
     "name": "stdout",
     "output_type": "stream",
     "text": [
      "<Response [200]>\n"
     ]
    }
   ],
   "source": [
    "response = requests.get(URL)    \n",
    "print(response)\n",
    "soup = BeautifulSoup(response.text, 'html.parser')"
   ]
  },
  {
   "cell_type": "code",
   "execution_count": 6,
   "id": "d28df9db",
   "metadata": {},
   "outputs": [
    {
     "name": "stdout",
     "output_type": "stream",
     "text": [
      "보테가베네타 컨티넨탈 블랙 플랩 지갑 23SS\n"
     ]
    }
   ],
   "source": [
    "name = soup.select('.basicList_title__VfX3c')\n",
    "print(name[0].text)"
   ]
  },
  {
   "cell_type": "markdown",
   "id": "ecb2c722",
   "metadata": {},
   "source": [
    "---"
   ]
  },
  {
   "cell_type": "code",
   "execution_count": 7,
   "id": "e8bf8293",
   "metadata": {},
   "outputs": [],
   "source": [
    "from selenium import webdriver"
   ]
  },
  {
   "cell_type": "code",
   "execution_count": 8,
   "id": "78b5691e",
   "metadata": {},
   "outputs": [],
   "source": [
    "chrome_path = r'C:\\Users\\dlagm\\workspace_kdt\\lecture\\selenium\\chromedriver_win32\\chromedriver.exe'"
   ]
  },
  {
   "cell_type": "code",
   "execution_count": 10,
   "id": "0d930032",
   "metadata": {},
   "outputs": [
    {
     "name": "stderr",
     "output_type": "stream",
     "text": [
      "C:\\Users\\dlagm\\AppData\\Local\\Temp\\ipykernel_20028\\1407841449.py:1: DeprecationWarning: executable_path has been deprecated, please pass in a Service object\n",
      "  driver = webdriver.Chrome(chrome_path)\n",
      "[WDM] - Downloading: 100%|████████████████████████████████████████████████████████| 6.81M/6.81M [00:00<00:00, 40.5MB/s]\n"
     ]
    }
   ],
   "source": [
    "driver = webdriver.Chrome(chrome_path)\n",
    "from selenium import webdriver\n",
    "from selenium.webdriver.chrome.service import Service\n",
    "from webdriver_manager.chrome import ChromeDriverManager\n",
    "# driver = webdriver.Chrome(\n",
    "# service=Service(ChromeDriverManager().install()) )\n",
    "driver = webdriver.Chrome()"
   ]
  },
  {
   "cell_type": "code",
   "execution_count": 90,
   "id": "7939858c",
   "metadata": {},
   "outputs": [],
   "source": [
    "# 여성패션 카테고리\n",
    "driver.get('https://search.shopping.naver.com/search/category/100000001')"
   ]
  },
  {
   "cell_type": "code",
   "execution_count": 12,
   "id": "fe698156",
   "metadata": {},
   "outputs": [],
   "source": [
    "from selenium.webdriver.common.by import By\n",
    "from selenium.webdriver.common.keys import Keys"
   ]
  },
  {
   "cell_type": "code",
   "execution_count": 202,
   "id": "a75f7f52",
   "metadata": {},
   "outputs": [
    {
     "ename": "NoSuchElementException",
     "evalue": "Message: no such element: Unable to locate element: {\"method\":\"css selector\",\"selector\":\".basicList_img_area__AdRY_ .thumbnail_thumb_wrap__RbcYO img\"}\n  (Session info: chrome=113.0.5672.126)\nStacktrace:\nBacktrace:\n\tGetHandleVerifier [0x00DD8893+48451]\n\t(No symbol) [0x00D6B8A1]\n\t(No symbol) [0x00C75058]\n\t(No symbol) [0x00CA0467]\n\t(No symbol) [0x00CA069B]\n\t(No symbol) [0x00C99631]\n\t(No symbol) [0x00CBA304]\n\t(No symbol) [0x00C99586]\n\t(No symbol) [0x00CBA614]\n\t(No symbol) [0x00CCC482]\n\t(No symbol) [0x00CBA0B6]\n\t(No symbol) [0x00C97E08]\n\t(No symbol) [0x00C98F2D]\n\tGetHandleVerifier [0x01038E3A+2540266]\n\tGetHandleVerifier [0x01078959+2801161]\n\tGetHandleVerifier [0x0107295C+2776588]\n\tGetHandleVerifier [0x00E62280+612144]\n\t(No symbol) [0x00D74F6C]\n\t(No symbol) [0x00D711D8]\n\t(No symbol) [0x00D712BB]\n\t(No symbol) [0x00D64857]\n\tBaseThreadInitThunk [0x769A7D59+25]\n\tRtlInitializeExceptionChain [0x7756B74B+107]\n\tRtlClearBits [0x7756B6CF+191]\n",
     "output_type": "error",
     "traceback": [
      "\u001b[1;31m---------------------------------------------------------------------------\u001b[0m",
      "\u001b[1;31mNoSuchElementException\u001b[0m                    Traceback (most recent call last)",
      "Cell \u001b[1;32mIn[202], line 51\u001b[0m\n\u001b[0;32m     48\u001b[0m time\u001b[38;5;241m.\u001b[39msleep(\u001b[38;5;241m1\u001b[39m)\n\u001b[0;32m     50\u001b[0m \u001b[38;5;66;03m# 이미지 링크\u001b[39;00m\n\u001b[1;32m---> 51\u001b[0m image_element \u001b[38;5;241m=\u001b[39m \u001b[43mitem\u001b[49m\u001b[38;5;241;43m.\u001b[39;49m\u001b[43mfind_element\u001b[49m\u001b[43m(\u001b[49m\u001b[43mBy\u001b[49m\u001b[38;5;241;43m.\u001b[39;49m\u001b[43mCSS_SELECTOR\u001b[49m\u001b[43m,\u001b[49m\u001b[43m \u001b[49m\u001b[38;5;124;43m'\u001b[39;49m\u001b[38;5;124;43m.basicList_img_area__AdRY_ .thumbnail_thumb_wrap__RbcYO img\u001b[39;49m\u001b[38;5;124;43m'\u001b[39;49m\u001b[43m)\u001b[49m\n\u001b[0;32m     52\u001b[0m image_src \u001b[38;5;241m=\u001b[39m image_element\u001b[38;5;241m.\u001b[39mget_attribute(\u001b[38;5;124m'\u001b[39m\u001b[38;5;124msrc\u001b[39m\u001b[38;5;124m'\u001b[39m)\n\u001b[0;32m     54\u001b[0m image_list\u001b[38;5;241m.\u001b[39mappend(image_src)\n",
      "File \u001b[1;32mc:\\Users\\dlagm\\anaconda3\\envs\\study\\lib\\site-packages\\selenium\\webdriver\\remote\\webelement.py:425\u001b[0m, in \u001b[0;36mWebElement.find_element\u001b[1;34m(self, by, value)\u001b[0m\n\u001b[0;32m    422\u001b[0m     by \u001b[38;5;241m=\u001b[39m By\u001b[38;5;241m.\u001b[39mCSS_SELECTOR\n\u001b[0;32m    423\u001b[0m     value \u001b[38;5;241m=\u001b[39m \u001b[38;5;124mf\u001b[39m\u001b[38;5;124m'\u001b[39m\u001b[38;5;124m[name=\u001b[39m\u001b[38;5;124m\"\u001b[39m\u001b[38;5;132;01m{\u001b[39;00mvalue\u001b[38;5;132;01m}\u001b[39;00m\u001b[38;5;124m\"\u001b[39m\u001b[38;5;124m]\u001b[39m\u001b[38;5;124m'\u001b[39m\n\u001b[1;32m--> 425\u001b[0m \u001b[38;5;28;01mreturn\u001b[39;00m \u001b[38;5;28;43mself\u001b[39;49m\u001b[38;5;241;43m.\u001b[39;49m\u001b[43m_execute\u001b[49m\u001b[43m(\u001b[49m\u001b[43mCommand\u001b[49m\u001b[38;5;241;43m.\u001b[39;49m\u001b[43mFIND_CHILD_ELEMENT\u001b[49m\u001b[43m,\u001b[49m\u001b[43m \u001b[49m\u001b[43m{\u001b[49m\u001b[38;5;124;43m\"\u001b[39;49m\u001b[38;5;124;43musing\u001b[39;49m\u001b[38;5;124;43m\"\u001b[39;49m\u001b[43m:\u001b[49m\u001b[43m \u001b[49m\u001b[43mby\u001b[49m\u001b[43m,\u001b[49m\u001b[43m \u001b[49m\u001b[38;5;124;43m\"\u001b[39;49m\u001b[38;5;124;43mvalue\u001b[39;49m\u001b[38;5;124;43m\"\u001b[39;49m\u001b[43m:\u001b[49m\u001b[43m \u001b[49m\u001b[43mvalue\u001b[49m\u001b[43m}\u001b[49m\u001b[43m)\u001b[49m[\u001b[38;5;124m\"\u001b[39m\u001b[38;5;124mvalue\u001b[39m\u001b[38;5;124m\"\u001b[39m]\n",
      "File \u001b[1;32mc:\\Users\\dlagm\\anaconda3\\envs\\study\\lib\\site-packages\\selenium\\webdriver\\remote\\webelement.py:403\u001b[0m, in \u001b[0;36mWebElement._execute\u001b[1;34m(self, command, params)\u001b[0m\n\u001b[0;32m    401\u001b[0m     params \u001b[38;5;241m=\u001b[39m {}\n\u001b[0;32m    402\u001b[0m params[\u001b[38;5;124m\"\u001b[39m\u001b[38;5;124mid\u001b[39m\u001b[38;5;124m\"\u001b[39m] \u001b[38;5;241m=\u001b[39m \u001b[38;5;28mself\u001b[39m\u001b[38;5;241m.\u001b[39m_id\n\u001b[1;32m--> 403\u001b[0m \u001b[38;5;28;01mreturn\u001b[39;00m \u001b[38;5;28;43mself\u001b[39;49m\u001b[38;5;241;43m.\u001b[39;49m\u001b[43m_parent\u001b[49m\u001b[38;5;241;43m.\u001b[39;49m\u001b[43mexecute\u001b[49m\u001b[43m(\u001b[49m\u001b[43mcommand\u001b[49m\u001b[43m,\u001b[49m\u001b[43m \u001b[49m\u001b[43mparams\u001b[49m\u001b[43m)\u001b[49m\n",
      "File \u001b[1;32mc:\\Users\\dlagm\\anaconda3\\envs\\study\\lib\\site-packages\\selenium\\webdriver\\remote\\webdriver.py:440\u001b[0m, in \u001b[0;36mWebDriver.execute\u001b[1;34m(self, driver_command, params)\u001b[0m\n\u001b[0;32m    438\u001b[0m response \u001b[38;5;241m=\u001b[39m \u001b[38;5;28mself\u001b[39m\u001b[38;5;241m.\u001b[39mcommand_executor\u001b[38;5;241m.\u001b[39mexecute(driver_command, params)\n\u001b[0;32m    439\u001b[0m \u001b[38;5;28;01mif\u001b[39;00m response:\n\u001b[1;32m--> 440\u001b[0m     \u001b[38;5;28;43mself\u001b[39;49m\u001b[38;5;241;43m.\u001b[39;49m\u001b[43merror_handler\u001b[49m\u001b[38;5;241;43m.\u001b[39;49m\u001b[43mcheck_response\u001b[49m\u001b[43m(\u001b[49m\u001b[43mresponse\u001b[49m\u001b[43m)\u001b[49m\n\u001b[0;32m    441\u001b[0m     response[\u001b[38;5;124m\"\u001b[39m\u001b[38;5;124mvalue\u001b[39m\u001b[38;5;124m\"\u001b[39m] \u001b[38;5;241m=\u001b[39m \u001b[38;5;28mself\u001b[39m\u001b[38;5;241m.\u001b[39m_unwrap_value(response\u001b[38;5;241m.\u001b[39mget(\u001b[38;5;124m\"\u001b[39m\u001b[38;5;124mvalue\u001b[39m\u001b[38;5;124m\"\u001b[39m, \u001b[38;5;28;01mNone\u001b[39;00m))\n\u001b[0;32m    442\u001b[0m     \u001b[38;5;28;01mreturn\u001b[39;00m response\n",
      "File \u001b[1;32mc:\\Users\\dlagm\\anaconda3\\envs\\study\\lib\\site-packages\\selenium\\webdriver\\remote\\errorhandler.py:245\u001b[0m, in \u001b[0;36mErrorHandler.check_response\u001b[1;34m(self, response)\u001b[0m\n\u001b[0;32m    243\u001b[0m         alert_text \u001b[38;5;241m=\u001b[39m value[\u001b[38;5;124m\"\u001b[39m\u001b[38;5;124malert\u001b[39m\u001b[38;5;124m\"\u001b[39m]\u001b[38;5;241m.\u001b[39mget(\u001b[38;5;124m\"\u001b[39m\u001b[38;5;124mtext\u001b[39m\u001b[38;5;124m\"\u001b[39m)\n\u001b[0;32m    244\u001b[0m     \u001b[38;5;28;01mraise\u001b[39;00m exception_class(message, screen, stacktrace, alert_text)  \u001b[38;5;66;03m# type: ignore[call-arg]  # mypy is not smart enough here\u001b[39;00m\n\u001b[1;32m--> 245\u001b[0m \u001b[38;5;28;01mraise\u001b[39;00m exception_class(message, screen, stacktrace)\n",
      "\u001b[1;31mNoSuchElementException\u001b[0m: Message: no such element: Unable to locate element: {\"method\":\"css selector\",\"selector\":\".basicList_img_area__AdRY_ .thumbnail_thumb_wrap__RbcYO img\"}\n  (Session info: chrome=113.0.5672.126)\nStacktrace:\nBacktrace:\n\tGetHandleVerifier [0x00DD8893+48451]\n\t(No symbol) [0x00D6B8A1]\n\t(No symbol) [0x00C75058]\n\t(No symbol) [0x00CA0467]\n\t(No symbol) [0x00CA069B]\n\t(No symbol) [0x00C99631]\n\t(No symbol) [0x00CBA304]\n\t(No symbol) [0x00C99586]\n\t(No symbol) [0x00CBA614]\n\t(No symbol) [0x00CCC482]\n\t(No symbol) [0x00CBA0B6]\n\t(No symbol) [0x00C97E08]\n\t(No symbol) [0x00C98F2D]\n\tGetHandleVerifier [0x01038E3A+2540266]\n\tGetHandleVerifier [0x01078959+2801161]\n\tGetHandleVerifier [0x0107295C+2776588]\n\tGetHandleVerifier [0x00E62280+612144]\n\t(No symbol) [0x00D74F6C]\n\t(No symbol) [0x00D711D8]\n\t(No symbol) [0x00D712BB]\n\t(No symbol) [0x00D64857]\n\tBaseThreadInitThunk [0x769A7D59+25]\n\tRtlInitializeExceptionChain [0x7756B74B+107]\n\tRtlClearBits [0x7756B6CF+191]\n"
     ]
    }
   ],
   "source": [
    "from selenium.common.exceptions import NoSuchElementException\n",
    "import time\n",
    "\n",
    "# 여성패션의 세부 카테고리\n",
    "lis = driver.find_elements(By.CSS_SELECTOR, '.filter_finder_list__4PE1C li')\n",
    "for li in lis:\n",
    "    one_cat = li.find_element(By.CLASS_NAME, 'filter_text_over__iesoO')\n",
    "    one_cat.click() # 카테고리 하나 클릭\n",
    "    time.sleep(3)\n",
    "    \n",
    "    compare = driver.find_elements(By.CSS_SELECTOR, '.subFilter_seller_filter__snFam li')\n",
    "    compare[1].click() # 가격비교 클릭\n",
    "    \n",
    "    time.sleep(1)\n",
    "    # 스크롤 끝까지 내리기\n",
    "    driver.execute_script(\"window.scrollTo(0, document.body.scrollHeight);\")\n",
    "    time.sleep(1)\n",
    "    \n",
    "    items_list = driver.find_elements(By.CSS_SELECTOR, '.basicList_list_basis__uNBZx .basicList_item__0T9JD')\n",
    "    \n",
    "#     print(len(items_list))\n",
    "    \n",
    "    breaker = False\n",
    "    names = []\n",
    "    image_list = []\n",
    "    price = []\n",
    "    price_list = []\n",
    "    brand = []\n",
    "    cat_1 = []\n",
    "    cat_2 = []\n",
    "    cat_3= []\n",
    "    \n",
    "    cn = False\n",
    "    page = 1\n",
    "    \n",
    "    for item in items_list: # 하나의 카테고리 안에서 상품 가져오기\n",
    "\n",
    "        # 제품 이름 \n",
    "        try: \n",
    "            product_name = item.find_element(By.CLASS_NAME, 'basicList_title__VfX3c').text\n",
    "        except:\n",
    "            product_name = item.find_element(By.CLASS_NAME, 'linkAnchor').text\n",
    "        if len(names) >= 55:\n",
    "            breaker = True\n",
    "            break\n",
    "        names.append(product_name)\n",
    "        \n",
    "        time.sleep(1)\n",
    "\n",
    "        # 이미지 링크\n",
    "        image_element = item.find_element(By.CSS_SELECTOR, '.basicList_img_area__AdRY_ .thumbnail_thumb_wrap__RbcYO img')\n",
    "        image_src = image_element.get_attribute('src')\n",
    "\n",
    "        image_list.append(image_src)\n",
    "\n",
    "        # 가격\n",
    "        price_one = item.find_element(By.CLASS_NAME, 'price_num__S2p_v').text\n",
    "        price.append(price_one)\n",
    "\n",
    "        # 최저가 리스트\n",
    "        low_list = item.find_elements(By.CSS_SELECTOR, '.basicList_mall_list__S_B5C li')\n",
    "        price_low_list = []\n",
    "        for li in low_list:\n",
    "            manyofone = li.find_element(By.CSS_SELECTOR, '.basicList_price__euNoD').text\n",
    "            price_low_list.append(manyofone)\n",
    "        price_list.append(price_low_list)\n",
    "\n",
    "        # 카테고리 대중소\n",
    "        categories = item.find_elements(By.CLASS_NAME, 'basicList_category__cXUaZ')\n",
    "        cate1 = categories[0].text\n",
    "        cate2 = categories[1].text\n",
    "        cate3 = categories[2].text\n",
    "        cat_1.append(cate1)\n",
    "        cat_2.append(cate2)\n",
    "        cat_3.append(cate3)\n",
    "\n",
    "    if breaker == True:\n",
    "        break\n",
    "        \n",
    "    # 다음 페이지 클릭\n",
    "    page += 1\n",
    "    pages = driver.find_elements(By.CSS_SELECTOR, '.pagination_btn_page___ry_S')\n",
    "    for next in pages:\n",
    "        next_page = next.get_attribute('data-nclick')\n",
    "        page_str = 'N=a:pag.page,i:{}'.format(page)\n",
    "        if next_page == page_str:\n",
    "            next.click()\n",
    "            break\n",
    "\n",
    "    break\n",
    "    "
   ]
  },
  {
   "cell_type": "code",
   "execution_count": 201,
   "id": "c2998df1",
   "metadata": {},
   "outputs": [
    {
     "ename": "NoSuchElementException",
     "evalue": "Message: no such element: Unable to locate element: {\"method\":\"css selector\",\"selector\":\".basicList_img_area__AdRY_ .thumbnail_thumb_wrap__RbcYO img\"}\n  (Session info: chrome=113.0.5672.126)\nStacktrace:\nBacktrace:\n\tGetHandleVerifier [0x00DD8893+48451]\n\t(No symbol) [0x00D6B8A1]\n\t(No symbol) [0x00C75058]\n\t(No symbol) [0x00CA0467]\n\t(No symbol) [0x00CA069B]\n\t(No symbol) [0x00C99631]\n\t(No symbol) [0x00CBA304]\n\t(No symbol) [0x00C99586]\n\t(No symbol) [0x00CBA614]\n\t(No symbol) [0x00CCC482]\n\t(No symbol) [0x00CBA0B6]\n\t(No symbol) [0x00C97E08]\n\t(No symbol) [0x00C98F2D]\n\tGetHandleVerifier [0x01038E3A+2540266]\n\tGetHandleVerifier [0x01078959+2801161]\n\tGetHandleVerifier [0x0107295C+2776588]\n\tGetHandleVerifier [0x00E62280+612144]\n\t(No symbol) [0x00D74F6C]\n\t(No symbol) [0x00D711D8]\n\t(No symbol) [0x00D712BB]\n\t(No symbol) [0x00D64857]\n\tBaseThreadInitThunk [0x769A7D59+25]\n\tRtlInitializeExceptionChain [0x7756B74B+107]\n\tRtlClearBits [0x7756B6CF+191]\n",
     "output_type": "error",
     "traceback": [
      "\u001b[1;31m---------------------------------------------------------------------------\u001b[0m",
      "\u001b[1;31mNoSuchElementException\u001b[0m                    Traceback (most recent call last)",
      "Cell \u001b[1;32mIn[201], line 39\u001b[0m\n\u001b[0;32m     38\u001b[0m \u001b[38;5;28;01mtry\u001b[39;00m: \u001b[38;5;66;03m# 광고일 때 제외\u001b[39;00m\n\u001b[1;32m---> 39\u001b[0m     \u001b[38;5;28;01mif\u001b[39;00m \u001b[43mitem\u001b[49m\u001b[38;5;241;43m.\u001b[39;49m\u001b[43mfind_element\u001b[49m\u001b[43m(\u001b[49m\u001b[43mBy\u001b[49m\u001b[38;5;241;43m.\u001b[39;49m\u001b[43mCSS_SELECTOR\u001b[49m\u001b[43m,\u001b[49m\u001b[43m \u001b[49m\u001b[38;5;124;43m'\u001b[39;49m\u001b[38;5;124;43m.basicList_price_area__K7DDT .ad_ad_stk__Rfw9m\u001b[39;49m\u001b[38;5;124;43m'\u001b[39;49m\u001b[43m)\u001b[49m\u001b[38;5;241m.\u001b[39mtext \u001b[38;5;241m==\u001b[39m \u001b[38;5;124m'\u001b[39m\u001b[38;5;124m광고\u001b[39m\u001b[38;5;124m'\u001b[39m:\n\u001b[0;32m     40\u001b[0m         cn \u001b[38;5;241m=\u001b[39m \u001b[38;5;28;01mTrue\u001b[39;00m\n",
      "File \u001b[1;32mc:\\Users\\dlagm\\anaconda3\\envs\\study\\lib\\site-packages\\selenium\\webdriver\\remote\\webelement.py:425\u001b[0m, in \u001b[0;36mWebElement.find_element\u001b[1;34m(self, by, value)\u001b[0m\n\u001b[0;32m    423\u001b[0m     value \u001b[38;5;241m=\u001b[39m \u001b[38;5;124mf\u001b[39m\u001b[38;5;124m'\u001b[39m\u001b[38;5;124m[name=\u001b[39m\u001b[38;5;124m\"\u001b[39m\u001b[38;5;132;01m{\u001b[39;00mvalue\u001b[38;5;132;01m}\u001b[39;00m\u001b[38;5;124m\"\u001b[39m\u001b[38;5;124m]\u001b[39m\u001b[38;5;124m'\u001b[39m\n\u001b[1;32m--> 425\u001b[0m \u001b[38;5;28;01mreturn\u001b[39;00m \u001b[38;5;28;43mself\u001b[39;49m\u001b[38;5;241;43m.\u001b[39;49m\u001b[43m_execute\u001b[49m\u001b[43m(\u001b[49m\u001b[43mCommand\u001b[49m\u001b[38;5;241;43m.\u001b[39;49m\u001b[43mFIND_CHILD_ELEMENT\u001b[49m\u001b[43m,\u001b[49m\u001b[43m \u001b[49m\u001b[43m{\u001b[49m\u001b[38;5;124;43m\"\u001b[39;49m\u001b[38;5;124;43musing\u001b[39;49m\u001b[38;5;124;43m\"\u001b[39;49m\u001b[43m:\u001b[49m\u001b[43m \u001b[49m\u001b[43mby\u001b[49m\u001b[43m,\u001b[49m\u001b[43m \u001b[49m\u001b[38;5;124;43m\"\u001b[39;49m\u001b[38;5;124;43mvalue\u001b[39;49m\u001b[38;5;124;43m\"\u001b[39;49m\u001b[43m:\u001b[49m\u001b[43m \u001b[49m\u001b[43mvalue\u001b[49m\u001b[43m}\u001b[49m\u001b[43m)\u001b[49m[\u001b[38;5;124m\"\u001b[39m\u001b[38;5;124mvalue\u001b[39m\u001b[38;5;124m\"\u001b[39m]\n",
      "File \u001b[1;32mc:\\Users\\dlagm\\anaconda3\\envs\\study\\lib\\site-packages\\selenium\\webdriver\\remote\\webelement.py:403\u001b[0m, in \u001b[0;36mWebElement._execute\u001b[1;34m(self, command, params)\u001b[0m\n\u001b[0;32m    402\u001b[0m params[\u001b[38;5;124m\"\u001b[39m\u001b[38;5;124mid\u001b[39m\u001b[38;5;124m\"\u001b[39m] \u001b[38;5;241m=\u001b[39m \u001b[38;5;28mself\u001b[39m\u001b[38;5;241m.\u001b[39m_id\n\u001b[1;32m--> 403\u001b[0m \u001b[38;5;28;01mreturn\u001b[39;00m \u001b[38;5;28;43mself\u001b[39;49m\u001b[38;5;241;43m.\u001b[39;49m\u001b[43m_parent\u001b[49m\u001b[38;5;241;43m.\u001b[39;49m\u001b[43mexecute\u001b[49m\u001b[43m(\u001b[49m\u001b[43mcommand\u001b[49m\u001b[43m,\u001b[49m\u001b[43m \u001b[49m\u001b[43mparams\u001b[49m\u001b[43m)\u001b[49m\n",
      "File \u001b[1;32mc:\\Users\\dlagm\\anaconda3\\envs\\study\\lib\\site-packages\\selenium\\webdriver\\remote\\webdriver.py:440\u001b[0m, in \u001b[0;36mWebDriver.execute\u001b[1;34m(self, driver_command, params)\u001b[0m\n\u001b[0;32m    439\u001b[0m \u001b[38;5;28;01mif\u001b[39;00m response:\n\u001b[1;32m--> 440\u001b[0m     \u001b[38;5;28;43mself\u001b[39;49m\u001b[38;5;241;43m.\u001b[39;49m\u001b[43merror_handler\u001b[49m\u001b[38;5;241;43m.\u001b[39;49m\u001b[43mcheck_response\u001b[49m\u001b[43m(\u001b[49m\u001b[43mresponse\u001b[49m\u001b[43m)\u001b[49m\n\u001b[0;32m    441\u001b[0m     response[\u001b[38;5;124m\"\u001b[39m\u001b[38;5;124mvalue\u001b[39m\u001b[38;5;124m\"\u001b[39m] \u001b[38;5;241m=\u001b[39m \u001b[38;5;28mself\u001b[39m\u001b[38;5;241m.\u001b[39m_unwrap_value(response\u001b[38;5;241m.\u001b[39mget(\u001b[38;5;124m\"\u001b[39m\u001b[38;5;124mvalue\u001b[39m\u001b[38;5;124m\"\u001b[39m, \u001b[38;5;28;01mNone\u001b[39;00m))\n",
      "File \u001b[1;32mc:\\Users\\dlagm\\anaconda3\\envs\\study\\lib\\site-packages\\selenium\\webdriver\\remote\\errorhandler.py:245\u001b[0m, in \u001b[0;36mErrorHandler.check_response\u001b[1;34m(self, response)\u001b[0m\n\u001b[0;32m    244\u001b[0m     \u001b[38;5;28;01mraise\u001b[39;00m exception_class(message, screen, stacktrace, alert_text)  \u001b[38;5;66;03m# type: ignore[call-arg]  # mypy is not smart enough here\u001b[39;00m\n\u001b[1;32m--> 245\u001b[0m \u001b[38;5;28;01mraise\u001b[39;00m exception_class(message, screen, stacktrace)\n",
      "\u001b[1;31mNoSuchElementException\u001b[0m: Message: no such element: Unable to locate element: {\"method\":\"css selector\",\"selector\":\".basicList_price_area__K7DDT .ad_ad_stk__Rfw9m\"}\n  (Session info: chrome=113.0.5672.126)\nStacktrace:\nBacktrace:\n\tGetHandleVerifier [0x00DD8893+48451]\n\t(No symbol) [0x00D6B8A1]\n\t(No symbol) [0x00C75058]\n\t(No symbol) [0x00CA0467]\n\t(No symbol) [0x00CA069B]\n\t(No symbol) [0x00C99631]\n\t(No symbol) [0x00CBA304]\n\t(No symbol) [0x00C99586]\n\t(No symbol) [0x00CBA614]\n\t(No symbol) [0x00CCC482]\n\t(No symbol) [0x00CBA0B6]\n\t(No symbol) [0x00C97E08]\n\t(No symbol) [0x00C98F2D]\n\tGetHandleVerifier [0x01038E3A+2540266]\n\tGetHandleVerifier [0x01078959+2801161]\n\tGetHandleVerifier [0x0107295C+2776588]\n\tGetHandleVerifier [0x00E62280+612144]\n\t(No symbol) [0x00D74F6C]\n\t(No symbol) [0x00D711D8]\n\t(No symbol) [0x00D712BB]\n\t(No symbol) [0x00D64857]\n\tBaseThreadInitThunk [0x769A7D59+25]\n\tRtlInitializeExceptionChain [0x7756B74B+107]\n\tRtlClearBits [0x7756B6CF+191]\n",
      "\nDuring handling of the above exception, another exception occurred:\n",
      "\u001b[1;31mNoSuchElementException\u001b[0m                    Traceback (most recent call last)",
      "Cell \u001b[1;32mIn[201], line 54\u001b[0m\n\u001b[0;32m     51\u001b[0m names\u001b[38;5;241m.\u001b[39mappend(product_name)\n\u001b[0;32m     53\u001b[0m \u001b[38;5;66;03m# 이미지 링크\u001b[39;00m\n\u001b[1;32m---> 54\u001b[0m image_element \u001b[38;5;241m=\u001b[39m \u001b[43mitem\u001b[49m\u001b[38;5;241;43m.\u001b[39;49m\u001b[43mfind_element\u001b[49m\u001b[43m(\u001b[49m\u001b[43mBy\u001b[49m\u001b[38;5;241;43m.\u001b[39;49m\u001b[43mCSS_SELECTOR\u001b[49m\u001b[43m,\u001b[49m\u001b[43m \u001b[49m\u001b[38;5;124;43m'\u001b[39;49m\u001b[38;5;124;43m.basicList_img_area__AdRY_ .thumbnail_thumb_wrap__RbcYO img\u001b[39;49m\u001b[38;5;124;43m'\u001b[39;49m\u001b[43m)\u001b[49m\n\u001b[0;32m     55\u001b[0m image_src \u001b[38;5;241m=\u001b[39m image_element\u001b[38;5;241m.\u001b[39mget_attribute(\u001b[38;5;124m'\u001b[39m\u001b[38;5;124msrc\u001b[39m\u001b[38;5;124m'\u001b[39m)\n\u001b[0;32m     57\u001b[0m image_list\u001b[38;5;241m.\u001b[39mappend(image_src)\n",
      "File \u001b[1;32mc:\\Users\\dlagm\\anaconda3\\envs\\study\\lib\\site-packages\\selenium\\webdriver\\remote\\webelement.py:425\u001b[0m, in \u001b[0;36mWebElement.find_element\u001b[1;34m(self, by, value)\u001b[0m\n\u001b[0;32m    422\u001b[0m     by \u001b[38;5;241m=\u001b[39m By\u001b[38;5;241m.\u001b[39mCSS_SELECTOR\n\u001b[0;32m    423\u001b[0m     value \u001b[38;5;241m=\u001b[39m \u001b[38;5;124mf\u001b[39m\u001b[38;5;124m'\u001b[39m\u001b[38;5;124m[name=\u001b[39m\u001b[38;5;124m\"\u001b[39m\u001b[38;5;132;01m{\u001b[39;00mvalue\u001b[38;5;132;01m}\u001b[39;00m\u001b[38;5;124m\"\u001b[39m\u001b[38;5;124m]\u001b[39m\u001b[38;5;124m'\u001b[39m\n\u001b[1;32m--> 425\u001b[0m \u001b[38;5;28;01mreturn\u001b[39;00m \u001b[38;5;28;43mself\u001b[39;49m\u001b[38;5;241;43m.\u001b[39;49m\u001b[43m_execute\u001b[49m\u001b[43m(\u001b[49m\u001b[43mCommand\u001b[49m\u001b[38;5;241;43m.\u001b[39;49m\u001b[43mFIND_CHILD_ELEMENT\u001b[49m\u001b[43m,\u001b[49m\u001b[43m \u001b[49m\u001b[43m{\u001b[49m\u001b[38;5;124;43m\"\u001b[39;49m\u001b[38;5;124;43musing\u001b[39;49m\u001b[38;5;124;43m\"\u001b[39;49m\u001b[43m:\u001b[49m\u001b[43m \u001b[49m\u001b[43mby\u001b[49m\u001b[43m,\u001b[49m\u001b[43m \u001b[49m\u001b[38;5;124;43m\"\u001b[39;49m\u001b[38;5;124;43mvalue\u001b[39;49m\u001b[38;5;124;43m\"\u001b[39;49m\u001b[43m:\u001b[49m\u001b[43m \u001b[49m\u001b[43mvalue\u001b[49m\u001b[43m}\u001b[49m\u001b[43m)\u001b[49m[\u001b[38;5;124m\"\u001b[39m\u001b[38;5;124mvalue\u001b[39m\u001b[38;5;124m\"\u001b[39m]\n",
      "File \u001b[1;32mc:\\Users\\dlagm\\anaconda3\\envs\\study\\lib\\site-packages\\selenium\\webdriver\\remote\\webelement.py:403\u001b[0m, in \u001b[0;36mWebElement._execute\u001b[1;34m(self, command, params)\u001b[0m\n\u001b[0;32m    401\u001b[0m     params \u001b[38;5;241m=\u001b[39m {}\n\u001b[0;32m    402\u001b[0m params[\u001b[38;5;124m\"\u001b[39m\u001b[38;5;124mid\u001b[39m\u001b[38;5;124m\"\u001b[39m] \u001b[38;5;241m=\u001b[39m \u001b[38;5;28mself\u001b[39m\u001b[38;5;241m.\u001b[39m_id\n\u001b[1;32m--> 403\u001b[0m \u001b[38;5;28;01mreturn\u001b[39;00m \u001b[38;5;28;43mself\u001b[39;49m\u001b[38;5;241;43m.\u001b[39;49m\u001b[43m_parent\u001b[49m\u001b[38;5;241;43m.\u001b[39;49m\u001b[43mexecute\u001b[49m\u001b[43m(\u001b[49m\u001b[43mcommand\u001b[49m\u001b[43m,\u001b[49m\u001b[43m \u001b[49m\u001b[43mparams\u001b[49m\u001b[43m)\u001b[49m\n",
      "File \u001b[1;32mc:\\Users\\dlagm\\anaconda3\\envs\\study\\lib\\site-packages\\selenium\\webdriver\\remote\\webdriver.py:440\u001b[0m, in \u001b[0;36mWebDriver.execute\u001b[1;34m(self, driver_command, params)\u001b[0m\n\u001b[0;32m    438\u001b[0m response \u001b[38;5;241m=\u001b[39m \u001b[38;5;28mself\u001b[39m\u001b[38;5;241m.\u001b[39mcommand_executor\u001b[38;5;241m.\u001b[39mexecute(driver_command, params)\n\u001b[0;32m    439\u001b[0m \u001b[38;5;28;01mif\u001b[39;00m response:\n\u001b[1;32m--> 440\u001b[0m     \u001b[38;5;28;43mself\u001b[39;49m\u001b[38;5;241;43m.\u001b[39;49m\u001b[43merror_handler\u001b[49m\u001b[38;5;241;43m.\u001b[39;49m\u001b[43mcheck_response\u001b[49m\u001b[43m(\u001b[49m\u001b[43mresponse\u001b[49m\u001b[43m)\u001b[49m\n\u001b[0;32m    441\u001b[0m     response[\u001b[38;5;124m\"\u001b[39m\u001b[38;5;124mvalue\u001b[39m\u001b[38;5;124m\"\u001b[39m] \u001b[38;5;241m=\u001b[39m \u001b[38;5;28mself\u001b[39m\u001b[38;5;241m.\u001b[39m_unwrap_value(response\u001b[38;5;241m.\u001b[39mget(\u001b[38;5;124m\"\u001b[39m\u001b[38;5;124mvalue\u001b[39m\u001b[38;5;124m\"\u001b[39m, \u001b[38;5;28;01mNone\u001b[39;00m))\n\u001b[0;32m    442\u001b[0m     \u001b[38;5;28;01mreturn\u001b[39;00m response\n",
      "File \u001b[1;32mc:\\Users\\dlagm\\anaconda3\\envs\\study\\lib\\site-packages\\selenium\\webdriver\\remote\\errorhandler.py:245\u001b[0m, in \u001b[0;36mErrorHandler.check_response\u001b[1;34m(self, response)\u001b[0m\n\u001b[0;32m    243\u001b[0m         alert_text \u001b[38;5;241m=\u001b[39m value[\u001b[38;5;124m\"\u001b[39m\u001b[38;5;124malert\u001b[39m\u001b[38;5;124m\"\u001b[39m]\u001b[38;5;241m.\u001b[39mget(\u001b[38;5;124m\"\u001b[39m\u001b[38;5;124mtext\u001b[39m\u001b[38;5;124m\"\u001b[39m)\n\u001b[0;32m    244\u001b[0m     \u001b[38;5;28;01mraise\u001b[39;00m exception_class(message, screen, stacktrace, alert_text)  \u001b[38;5;66;03m# type: ignore[call-arg]  # mypy is not smart enough here\u001b[39;00m\n\u001b[1;32m--> 245\u001b[0m \u001b[38;5;28;01mraise\u001b[39;00m exception_class(message, screen, stacktrace)\n",
      "\u001b[1;31mNoSuchElementException\u001b[0m: Message: no such element: Unable to locate element: {\"method\":\"css selector\",\"selector\":\".basicList_img_area__AdRY_ .thumbnail_thumb_wrap__RbcYO img\"}\n  (Session info: chrome=113.0.5672.126)\nStacktrace:\nBacktrace:\n\tGetHandleVerifier [0x00DD8893+48451]\n\t(No symbol) [0x00D6B8A1]\n\t(No symbol) [0x00C75058]\n\t(No symbol) [0x00CA0467]\n\t(No symbol) [0x00CA069B]\n\t(No symbol) [0x00C99631]\n\t(No symbol) [0x00CBA304]\n\t(No symbol) [0x00C99586]\n\t(No symbol) [0x00CBA614]\n\t(No symbol) [0x00CCC482]\n\t(No symbol) [0x00CBA0B6]\n\t(No symbol) [0x00C97E08]\n\t(No symbol) [0x00C98F2D]\n\tGetHandleVerifier [0x01038E3A+2540266]\n\tGetHandleVerifier [0x01078959+2801161]\n\tGetHandleVerifier [0x0107295C+2776588]\n\tGetHandleVerifier [0x00E62280+612144]\n\t(No symbol) [0x00D74F6C]\n\t(No symbol) [0x00D711D8]\n\t(No symbol) [0x00D712BB]\n\t(No symbol) [0x00D64857]\n\tBaseThreadInitThunk [0x769A7D59+25]\n\tRtlInitializeExceptionChain [0x7756B74B+107]\n\tRtlClearBits [0x7756B6CF+191]\n"
     ]
    }
   ],
   "source": [
    "# 이전 크롤링 코드\n",
    "\n",
    "from selenium.common.exceptions import NoSuchElementException\n",
    "import time\n",
    "\n",
    "# 여성패션의 세부 카테고리\n",
    "lis = driver.find_elements(By.CSS_SELECTOR, '.filter_finder_list__4PE1C li')\n",
    "for li in lis:\n",
    "    one_cat = li.find_element(By.CLASS_NAME, 'filter_text_over__iesoO')\n",
    "    one_cat.click() # 카테고리 하나 클릭\n",
    "    time.sleep(3)\n",
    "    \n",
    "    compare = driver.find_elements(By.CSS_SELECTOR, '.subFilter_seller_filter__snFam li')\n",
    "    compare[1].click() # 가격비교 클릭\n",
    "    \n",
    "    time.sleep(1)\n",
    "    # 스크롤 끝까지 내리기\n",
    "    driver.execute_script(\"window.scrollTo(0, document.body.scrollHeight);\")\n",
    "    time.sleep(1)\n",
    "    \n",
    "    items_list = driver.find_elements(By.CSS_SELECTOR, '.basicList_list_basis__uNBZx .basicList_item__0T9JD')\n",
    "    \n",
    "#     print(len(items_list))\n",
    "    \n",
    "    breaker = False\n",
    "    names = []\n",
    "    image_list = []\n",
    "    price = []\n",
    "    price_list = []\n",
    "    brand = []\n",
    "    cat_1 = []\n",
    "    cat_2 = []\n",
    "    cat_3= []\n",
    "    \n",
    "    cn = False\n",
    "    page = 1\n",
    "    \n",
    "    for item in items_list: # 하나의 카테고리 안에서 상품 가져오기\n",
    "\n",
    "        try: # 광고일 때 제외\n",
    "            if item.find_element(By.CSS_SELECTOR, '.basicList_price_area__K7DDT .ad_ad_stk__Rfw9m').text == '광고':\n",
    "                cn = True\n",
    "#                 print('광고 하나')\n",
    "        except:\n",
    "            # 제품 이름 \n",
    "            try: \n",
    "                product_name = item.find_element(By.CLASS_NAME, 'basicList_title__VfX3c').text\n",
    "            except:\n",
    "                product_name = item.find_element(By.CLASS_NAME, 'linkAnchor').text\n",
    "            if len(names) >= 55:\n",
    "                breaker = True\n",
    "                break\n",
    "            names.append(product_name)\n",
    "            \n",
    "            # 이미지 링크\n",
    "            image_element = item.find_element(By.CSS_SELECTOR, '.basicList_img_area__AdRY_ .thumbnail_thumb_wrap__RbcYO img')\n",
    "            image_src = image_element.get_attribute('src')\n",
    "\n",
    "            image_list.append(image_src)\n",
    "\n",
    "            # 가격\n",
    "            price_one = item.find_element(By.CLASS_NAME, 'price_num__S2p_v').text\n",
    "            price.append(price_one)\n",
    "\n",
    "            # 최저가 리스트\n",
    "            low_list = item.find_elements(By.CSS_SELECTOR, '.basicList_mall_list__S_B5C li')\n",
    "            price_low_list = []\n",
    "            for li in low_list:\n",
    "                manyofone = li.find_element(By.CSS_SELECTOR, '.basicList_price__euNoD').text\n",
    "                price_low_list.append(manyofone)\n",
    "            price_list.append(price_low_list)\n",
    "\n",
    "            # 카테고리 대중소\n",
    "            categories = item.find_elements(By.CLASS_NAME, 'basicList_category__cXUaZ')\n",
    "            cate1 = categories[0].text\n",
    "            cate2 = categories[1].text\n",
    "            cate3 = categories[2].text\n",
    "            cat_1.append(cate1)\n",
    "            cat_2.append(cate2)\n",
    "            cat_3.append(cate3)\n",
    "\n",
    "    if breaker == True:\n",
    "        break\n",
    "        \n",
    "    # 다음 페이지 클릭\n",
    "    page += 1\n",
    "    pages = driver.find_elements(By.CSS_SELECTOR, '.pagination_btn_page___ry_S')\n",
    "    for next in pages:\n",
    "        next_page = next.get_attribute('data-nclick')\n",
    "        page_str = 'N=a:pag.page,i:{}'.format(page)\n",
    "        if next_page == page_str:\n",
    "            next.click()\n",
    "            break\n",
    "\n",
    "    break\n",
    "    "
   ]
  },
  {
   "cell_type": "code",
   "execution_count": 199,
   "id": "de0c6273",
   "metadata": {},
   "outputs": [
    {
     "data": {
      "text/plain": [
       "[]"
      ]
     },
     "execution_count": 199,
     "metadata": {},
     "output_type": "execute_result"
    }
   ],
   "source": [
    "compare"
   ]
  },
  {
   "cell_type": "code",
   "execution_count": 175,
   "id": "f8586612",
   "metadata": {},
   "outputs": [
    {
     "data": {
      "text/plain": [
       "40"
      ]
     },
     "execution_count": 175,
     "metadata": {},
     "output_type": "execute_result"
    }
   ],
   "source": [
    "len(price_list)"
   ]
  },
  {
   "cell_type": "code",
   "execution_count": 180,
   "id": "4b5c966b",
   "metadata": {},
   "outputs": [
    {
     "data": {
      "text/plain": [
       "['파우치',\n",
       " '크로스백',\n",
       " '크로스백',\n",
       " '숄더백',\n",
       " '여성지갑',\n",
       " '크로스백',\n",
       " '힙색',\n",
       " '크로스백',\n",
       " '크로스백',\n",
       " '크로스백',\n",
       " '숄더백',\n",
       " '숄더백',\n",
       " '파우치',\n",
       " '크로스백',\n",
       " '크로스백',\n",
       " '여성지갑',\n",
       " '파우치',\n",
       " '여성지갑',\n",
       " '숄더백',\n",
       " '여성지갑',\n",
       " '클러치백',\n",
       " '힙색',\n",
       " '숄더백',\n",
       " '크로스백',\n",
       " '숄더백',\n",
       " '토트백',\n",
       " '여성지갑',\n",
       " '힙색',\n",
       " '파우치',\n",
       " '크로스백',\n",
       " '파우치',\n",
       " '클러치백',\n",
       " '파우치',\n",
       " '파우치',\n",
       " '여성지갑',\n",
       " '여성지갑',\n",
       " '숄더백',\n",
       " '여성지갑',\n",
       " '크로스백',\n",
       " '숄더백']"
      ]
     },
     "execution_count": 180,
     "metadata": {},
     "output_type": "execute_result"
    }
   ],
   "source": [
    "cat_3"
   ]
  },
  {
   "cell_type": "code",
   "execution_count": 149,
   "id": "d10d7713",
   "metadata": {},
   "outputs": [
    {
     "data": {
      "text/plain": [
       "['440,440원',\n",
       " '702,000원',\n",
       " '912,000원',\n",
       " '1,230,000원',\n",
       " '490,000원',\n",
       " '1,280,000원',\n",
       " '685,000원',\n",
       " '702,000원',\n",
       " '485,000원',\n",
       " '1,030,000원',\n",
       " '634,480원',\n",
       " '75,000원',\n",
       " '401,000원',\n",
       " '812,000원',\n",
       " '1,016,000원',\n",
       " '609,000원',\n",
       " '485,000원',\n",
       " '447,000원',\n",
       " '964,000원',\n",
       " '338,000원',\n",
       " '676,000원',\n",
       " '685,000원',\n",
       " '1,361,570원',\n",
       " '1,580,000원',\n",
       " '565,000원',\n",
       " '1,100,000원',\n",
       " '458,000원',\n",
       " '735,000원',\n",
       " '458,000원',\n",
       " '597,080원',\n",
       " '399,000원',\n",
       " '1,050,000원',\n",
       " '550,530원',\n",
       " '49,800원',\n",
       " '438,000원',\n",
       " '630,000원',\n",
       " '2,070,000원',\n",
       " '599,000원',\n",
       " '847,420원',\n",
       " '1,462,000원']"
      ]
     },
     "execution_count": 149,
     "metadata": {},
     "output_type": "execute_result"
    }
   ],
   "source": [
    "price"
   ]
  },
  {
   "cell_type": "code",
   "execution_count": 189,
   "id": "820ecb6f",
   "metadata": {},
   "outputs": [
    {
     "data": {
      "text/plain": [
       "[]"
      ]
     },
     "execution_count": 189,
     "metadata": {},
     "output_type": "execute_result"
    }
   ],
   "source": [
    "names"
   ]
  },
  {
   "cell_type": "code",
   "execution_count": 181,
   "id": "03b44d96",
   "metadata": {},
   "outputs": [
    {
     "name": "stdout",
     "output_type": "stream",
     "text": [
      "Empty DataFrame\n",
      "Columns: [product_name, image_list, price, price_list, cat_1, cat_2, cat_3]\n",
      "Index: []\n"
     ]
    }
   ],
   "source": [
    "# 데이터프레임으로 만들기\n",
    "\n",
    "import pandas as pd\n",
    "\n",
    "data = list(zip(names,image_list,price,price_list,cat_1,cat_2,cat_3))\n",
    "df = pd.DataFrame(data, columns=['product_name','image_list','price','price_list','cat_1','cat_2','cat_3'])\n",
    "print(df)\n"
   ]
  },
  {
   "cell_type": "code",
   "execution_count": null,
   "id": "c9a88f40",
   "metadata": {},
   "outputs": [],
   "source": []
  }
 ],
 "metadata": {
  "kernelspec": {
   "display_name": "Python 3 (ipykernel)",
   "language": "python",
   "name": "python3"
  },
  "language_info": {
   "codemirror_mode": {
    "name": "ipython",
    "version": 3
   },
   "file_extension": ".py",
   "mimetype": "text/x-python",
   "name": "python",
   "nbconvert_exporter": "python",
   "pygments_lexer": "ipython3",
   "version": "3.8.16"
  }
 },
 "nbformat": 4,
 "nbformat_minor": 5
}
