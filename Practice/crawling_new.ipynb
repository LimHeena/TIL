{
 "cells": [
  {
   "cell_type": "code",
   "execution_count": 2,
   "id": "463c68af",
   "metadata": {},
   "outputs": [
    {
     "name": "stderr",
     "output_type": "stream",
     "text": [
      "C:\\Users\\dlagm\\AppData\\Local\\Temp\\ipykernel_14244\\268815354.py:5: DeprecationWarning: executable_path has been deprecated, please pass in a Service object\n",
      "  driver = webdriver.Chrome(chrome_path)\n"
     ]
    }
   ],
   "source": [
    "from selenium import webdriver\n",
    "from selenium.webdriver.common.by import By\n",
    "from selenium.webdriver.common.keys import Keys\n",
    "chrome_path = r'C:\\Users\\dlagm\\workspace_kdt\\lecture\\selenium\\chromedriver_win32\\chromedriver.exe'\n",
    "driver = webdriver.Chrome(chrome_path)\n",
    "from selenium import webdriver\n",
    "from selenium.webdriver.chrome.service import Service\n",
    "from webdriver_manager.chrome import ChromeDriverManager\n",
    "# driver = webdriver.Chrome(\n",
    "# service=Service(ChromeDriverManager().install()) )\n",
    "driver = webdriver.Chrome()"
   ]
  },
  {
   "cell_type": "code",
   "execution_count": 8,
   "id": "7ad2f801",
   "metadata": {},
   "outputs": [
    {
     "name": "stdout",
     "output_type": "stream",
     "text": [
      "Collecting xlrd\n",
      "  Using cached xlrd-2.0.1-py2.py3-none-any.whl (96 kB)\n",
      "Installing collected packages: xlrd\n",
      "Successfully installed xlrd-2.0.1\n"
     ]
    }
   ],
   "source": [
    "!pip install xlrd"
   ]
  },
  {
   "cell_type": "code",
   "execution_count": 9,
   "id": "c56f947e",
   "metadata": {},
   "outputs": [
    {
     "name": "stdout",
     "output_type": "stream",
     "text": [
      "     카테고리번호      대분류       중분류    소분류          세분류\n",
      "0  50003307  가구/인테리어  DIY자재/용품  가구부속품         가구다리\n",
      "1  50003308  가구/인테리어  DIY자재/용품  가구부속품         가구바퀴\n",
      "2  50003309  가구/인테리어  DIY자재/용품  가구부속품  경첩/꺽쇠/자석철물류\n",
      "3  50003314  가구/인테리어  DIY자재/용품  가구부속품      기타가구부속품\n",
      "4  50003310  가구/인테리어  DIY자재/용품  가구부속품         나사/못\n"
     ]
    }
   ],
   "source": [
    "import pandas as pd\n",
    "\n",
    "# Excel 파일 읽기\n",
    "df = pd.read_excel('./category.xls', engine='xlrd')\n",
    "\n",
    "# 데이터 확인\n",
    "print(df.head())\n"
   ]
  },
  {
   "cell_type": "code",
   "execution_count": 14,
   "id": "a4dd2efa",
   "metadata": {},
   "outputs": [
    {
     "name": "stdout",
     "output_type": "stream",
     "text": [
      "https://search.shopping.naver.com/search/category/?catId=50003307&origQuery&pagingIndex=2&productSet=model\n"
     ]
    }
   ],
   "source": [
    "import time\n",
    "URL = 'https://search.shopping.naver.com/search/category/?catId={}&origQuery&pagingIndex={}&productSet=model'.format(50003307,2)\n",
    "\n",
    "\n",
    "print(URL)"
   ]
  },
  {
   "cell_type": "code",
   "execution_count": 15,
   "id": "c0f57db0",
   "metadata": {},
   "outputs": [],
   "source": [
    "cate_num = []\n",
    "cat1 = []\n",
    "cat2 = []\n",
    "cat3 = []\n",
    "for idx, row in df.iterrows():\n",
    "    cate_num.append(row['카테고리번호'])\n",
    "    cat1.append(row['대분류'])\n",
    "    cat2.append(row['중분류'])\n",
    "    cat3.append(row['소분류'])"
   ]
  },
  {
   "cell_type": "code",
   "execution_count": 17,
   "id": "96b5a5d6",
   "metadata": {},
   "outputs": [
    {
     "data": {
      "text/plain": [
       "4818"
      ]
     },
     "execution_count": 17,
     "metadata": {},
     "output_type": "execute_result"
    }
   ],
   "source": [
    "len(cate_num)"
   ]
  },
  {
   "cell_type": "code",
   "execution_count": 35,
   "id": "36b2d3c3",
   "metadata": {},
   "outputs": [
    {
     "name": "stdout",
     "output_type": "stream",
     "text": [
      "https://search.shopping.naver.com/search/category/?catId=50003307&origQuery&pagingIndex=1&productSet=model\n",
      "40\n",
      "곽씨네슈퍼 가구 높이조절 의자 테이블 책상 높이조절발 다리 높이기 침대 받침 연장\n",
      "아키아 테이블 원목다리 책상 나무기둥 고하중 60T 철물보강형\n",
      "아크릴 가구 다리 받침 매트 바닥 보호 식탁 쇼파 다리 받침대 층간소음 눌림 패임 방지\n",
      "타공 링 아크릴 가구 다리 받침 식탁 쇼파 바닥 매트\n",
      "접이식상다리 철좌탁다리 2개입\n",
      "원목다리 테이블 나무 상다리 캠핑테이블다리 520 네츄럴\n",
      "책상다리 가구 테이블 철재 다리 키높이 높이조절다리 바퀴 상다리 이반가구11\n",
      "테이블 책상 다리 식탁 가구 철제 우드슬랩 좌탁 철재 바테이블 헤어핀 3칼라\n",
      "H형접이식 잘 부러지지 않는 강화플라스틱 상다리 양발다리 2P 테이블1벌\n",
      "곽씨네슈퍼 책상 높이조절 가구 다리 높이조절발 테이블 의자 식탁 높이기 연장 받침 원형\n",
      "pvc 폴딩다리 폴딩박스 사선 다리 발 분리형\n",
      "철물박사 PVC 높이 조절발 고무발 가구 책상다리용\n",
      "모네스페스 철제 가구 테이블 다리 책상 식탁 좌탁 벤치 프레임 우드슬랩다리\n",
      "남원공방 상다리부속 밥상다리 교자상다리부속\n",
      "국산 접이식 상다리 밥상다리 부속품 책상\n",
      "업소용 VFC-도도 탁자 목재다리의자 식탁\n",
      "파미가구 스트롱 테이블다리 접이식 프레임 책상\n",
      "조절발 책상 의자 수평 높이 조절 가구 다리 높이 사각 파이프캡 BH\n",
      "접이식 상다리 밥상 식탁 다리 책상 테이블 높이조절\n",
      "워싱턴 스텐 H형 테이블 다리 HFL-3352S\n",
      "우드원형 책상 식탁 다리 높이조절발 4P\n",
      "상다리부속 접이식상다리\n",
      "펜션 테이블 디자인 원형골드 스텐다리 GP-ITL10\n",
      "가구다리 플라스틱 철제 원목 서랍장 거실장 높이조절 상다리 270\n",
      "상다리 PVC 접이식상다리 cb 택색상\n",
      "우드슬랩다리 철제다리 테이블다리 사다리형\n",
      "사선형 원목 책상 식탁 테이블 철제다리 600\n",
      "가구다리 식탁 접이식 테이블 상다리 골발 높이조절 폴딩 철제 6 나팔발무광 1개\n",
      "비비드 알루미늄 파이프 훅 캠핑 테이블 다리 브라켓 봉\n",
      "철제 테이블다리 프레임 벤치 우드슬랩 좌탁\n",
      "접이식 테이블 다리 프레임 책상 상다리 철제 식탁\n",
      "드림가구 ㅁ자조립다리 테이블 탁자 분체도장 DIY철재다리 D600 W1000\n",
      "비텐 가구 높이조절발 테이블 식탁 의자 책상높이조절 발통 사각 일자\n",
      "알루미늄 가구다리 학다리 길이 테이블 DIY 셀프수리 인테리어\n",
      "가구 보수 원통 높이조절 가구발 철제 침대다리 발통\n",
      "좌식 접이식 밥상다리 앤틱 상다리 4개 세트상품 01 밥상다리 좌4개\n",
      "길이조절 조절발 39x8x30mm CB 4240 가구다리조절발\n",
      "발통 선반다리 거실장다리 다릿발 협탁 서랍장 폴딩박스다리\n",
      "가구다리 총 다리발 서랍장 거실장 알루미늄 철제 좌식테이블 폴딩박스 높이조절 다리 05 1 원형 삼각발 125 단품\n",
      "철제 플라스틱 가구발 받침 Y자조절다리\n",
      "https://search.shopping.naver.com/search/category/?catId=50003307&origQuery&pagingIndex=2&productSet=model\n",
      "40\n",
      "높이 조절발 테이블 다리 연장 책상 높이기 식탁 의자 상다리 침대 발통 쇼파 받침 원목 대형 높이 조절형 1세트 4개입\n",
      "다리 가구 책상 식탁 쇼파 의자 폴딩박스 DIY 철물점 옵션8 일자원형다리120mm\n",
      "홀다리 식탁 책상 철재\n",
      "줄발통 가구 다리 책상 식탁 높이조절 가구발\n",
      "하모니 가구 책상 높이조절 발 원형 높이조절 우드 40x45-55mm 4개입\n",
      "철제 높이조절 가구다리 침대 가구 받침 다리 흰색\n",
      "하이퍼스 디에즈 애쉬 원목 식탁다리 식탁프레임 테이블다리 상판미포함 목공 DIY 오산홈\n",
      "매트리스 침대 다리 발통\n",
      "튼튼한 테이블다리 가구받침 업소테이블 프레임\n",
      "이케아 OLOV 올로브 높이조절다리 702 643 04\n",
      "해외상다리부품 책상 다리 철제 식탁 철재 조절발 테이블\n",
      "주물다리 브론즈 바테이블 프레임 탁자다리 TL087-1\n",
      "모네스페스 철제 좌탁다리 벤치 프레임 1개\n",
      "가구 높이 조절발 4P 사각 가구다리 고무발\n",
      "가온 골드 가구다리 식탁다리 철제\n",
      "스틸 캐스타 알루미늄 다리 의자 오발\n",
      "알루미늄 높이조절 주름발통 가구다리 폴딩박스다리\n",
      "접이식 철제 상다리 좌식 밥상\n",
      "철물코리아 DIY 철제 테이블 프레임 책상 다리 벤치\n",
      "철제테이블다리 철제프레임 30T\n",
      "테이블 튼튼한 다리 가구받침 NST-006\n",
      "체어랩 의자연구소 의자부품 오발 다리 럭킹 부속 바퀴\n",
      "편백나무 접이식 상다리 식탁다리 원목다리 책상다리\n",
      "스토리퍼니쳐 캘리그라피 디자인테이블 영문 대중소 중형 비마이발렌타인 분체상다리\n",
      "씽크대다리 조절발 싱크대 가구 높이조절 관통 비관통 꼭지\n",
      "조립식 아이언 테이블다리 테이블프레임 책상다리\n",
      "좌식 테이블다리 책상 거실장 밥상 접이식 상다리 01 접이식 철다리\n"
     ]
    },
    {
     "ename": "KeyboardInterrupt",
     "evalue": "",
     "output_type": "error",
     "traceback": [
      "\u001b[1;31m---------------------------------------------------------------------------\u001b[0m",
      "\u001b[1;31mKeyboardInterrupt\u001b[0m                         Traceback (most recent call last)",
      "Cell \u001b[1;32mIn[35], line 64\u001b[0m\n\u001b[0;32m     62\u001b[0m brand_clk \u001b[38;5;241m=\u001b[39m item\u001b[38;5;241m.\u001b[39mfind_element(By\u001b[38;5;241m.\u001b[39mCSS_SELECTOR, \u001b[38;5;124m'\u001b[39m\u001b[38;5;124m.thumbnail_thumb_wrap__RbcYO\u001b[39m\u001b[38;5;124m'\u001b[39m) \u001b[38;5;66;03m# 자세한 링크로 들어가기\u001b[39;00m\n\u001b[0;32m     63\u001b[0m brand_clk\u001b[38;5;241m.\u001b[39mclick()\n\u001b[1;32m---> 64\u001b[0m \u001b[43mtime\u001b[49m\u001b[38;5;241;43m.\u001b[39;49m\u001b[43msleep\u001b[49m\u001b[43m(\u001b[49m\u001b[38;5;241;43m3\u001b[39;49m\u001b[43m)\u001b[49m\n\u001b[0;32m     66\u001b[0m driver\u001b[38;5;241m.\u001b[39mswitch_to\u001b[38;5;241m.\u001b[39mwindow(driver\u001b[38;5;241m.\u001b[39mwindow_handles[\u001b[38;5;241m-\u001b[39m\u001b[38;5;241m1\u001b[39m]) \u001b[38;5;66;03m# 새 창으로 드라이브 이동\u001b[39;00m\n\u001b[0;32m     67\u001b[0m driver_new \u001b[38;5;241m=\u001b[39m driver\n",
      "\u001b[1;31mKeyboardInterrupt\u001b[0m: "
     ]
    }
   ],
   "source": [
    "for num in cate_num:\n",
    "    \n",
    "    URL_1 = 'https://search.shopping.naver.com/search/category/?catId={}'.format(num) # 대분류\n",
    "\n",
    "    \n",
    "    for page in range(1,11): # 한 페이지 40개씩 총 400개\n",
    "        URL = URL_1 + '&origQuery&pagingIndex={}&productSet=model'.format(page)\n",
    "        \n",
    "        print(URL)\n",
    "        driver.get(URL)\n",
    "\n",
    "        # 스크롤 끝까지 내리기\n",
    "        driver.execute_script(\"window.scrollTo(0, document.body.scrollHeight);\")\n",
    "        time.sleep(3)\n",
    "\n",
    "\n",
    "        names = []\n",
    "        image_list = []\n",
    "        price = []\n",
    "        price_list = []\n",
    "        brand = []\n",
    "        cat_1 = []\n",
    "        cat_2 = []\n",
    "        cat_3= []\n",
    "\n",
    "        while True:\n",
    "            \n",
    "            items_list = driver.find_elements(By.CSS_SELECTOR, '.basicList_list_basis__uNBZx .basicList_item__0T9JD')\n",
    "            print(len(items_list))\n",
    "            \n",
    "            for item in items_list: # 하나의 카테고리 안에서 상품 가져오기\n",
    "\n",
    "                # 카테고리 대중소\n",
    "                categories = item.find_elements(By.CLASS_NAME, 'basicList_category__cXUaZ')\n",
    "                cate1 = categories[0].text\n",
    "                cate2 = categories[1].text\n",
    "                cate3 = categories[2].text\n",
    "                cat_1.append(cate1)\n",
    "                cat_2.append(cate2)\n",
    "                cat_3.append(cate3)   \n",
    "\n",
    "                # 제품 이름 \n",
    "                try: \n",
    "                    product_name = item.find_element(By.CLASS_NAME, 'basicList_title__VfX3c').text\n",
    "                except:\n",
    "                    product_name = item.find_element(By.CLASS_NAME, 'linkAnchor').text\n",
    "                names.append(product_name)\n",
    "\n",
    "                print(product_name)\n",
    "                \n",
    "\n",
    "                # 가격\n",
    "                try:\n",
    "                    price_one = item.find_element(By.CLASS_NAME, 'price_num__S2p_v').text\n",
    "                except:\n",
    "                    element = item.find_element(By.XPATH, './/*[@id=\"content\"]/div[1]/div[2]/div/div[1]/div/div/div[2]/div[2]/strong/span/span/span[2]')\n",
    "                    price_one = element.text\n",
    "\n",
    "                price.append(price_one)\n",
    "\n",
    "                # 브랜드\n",
    "                brand_clk = item.find_element(By.CSS_SELECTOR, '.thumbnail_thumb_wrap__RbcYO') # 자세한 링크로 들어가기\n",
    "                brand_clk.click()\n",
    "                time.sleep(3)\n",
    "\n",
    "                driver.switch_to.window(driver.window_handles[-1]) # 새 창으로 드라이브 이동\n",
    "                driver_new = driver\n",
    "\n",
    "                brand_one = driver.find_elements(By.CSS_SELECTOR, '.top_info_inner__aM_0Z .top_cell__5KJK9 em')\n",
    "                brand_name = brand_one[1].text\n",
    "                brand.append(brand_name)\n",
    "\n",
    "\n",
    "                # 이미지 링크\n",
    "                image_element = driver.find_element(By.XPATH, '//*[@id=\"content\"]/div[1]/div/div[1]/div/div/img')\n",
    "                image_src = image_element.get_attribute('src')\n",
    "\n",
    "                image_list.append(image_src)\n",
    "\n",
    "                # 최저가 리스트\n",
    "                low_list = driver_new.find_elements(By.CSS_SELECTOR, '.productList_seller_wrap__FZtUS li')\n",
    "                price_low_list = []\n",
    "                for li in low_list:\n",
    "                    manyofone = li.find_element(By.CSS_SELECTOR, '.productList_price__2eGt4 em').text\n",
    "                    price_low_list.append(manyofone)\n",
    "                price_list.append(price_low_list)\n",
    "\n",
    "\n",
    "                driver_new.close() # 뒤로가기\n",
    "                driver.switch_to.window(driver.window_handles[0]) # 드라이브 전환\n",
    "                \n",
    "            if item == items_list[-1]:\n",
    "                break"
   ]
  },
  {
   "cell_type": "code",
   "execution_count": 21,
   "id": "238e522f",
   "metadata": {},
   "outputs": [
    {
     "data": {
      "text/plain": [
       "['스틸 테이블 다리 700 CZ4310',\n",
       " '해외일자 나무 목재 가구 책상 테이블 높이조절발 A',\n",
       " '스틸 테이블 다리 700 CZ4310',\n",
       " '해외일자 나무 목재 가구 책상 테이블 높이조절발 A',\n",
       " '스틸 테이블 다리 700 CZ4310']"
      ]
     },
     "execution_count": 21,
     "metadata": {},
     "output_type": "execute_result"
    }
   ],
   "source": [
    "names"
   ]
  },
  {
   "cell_type": "code",
   "execution_count": 31,
   "id": "01450d3b",
   "metadata": {},
   "outputs": [
    {
     "data": {
      "text/plain": [
       "[<selenium.webdriver.remote.webelement.WebElement (session=\"2385b0bf26d2c6acb0d952d53d29df0f\", element=\"BFC50D03160DE3D22D2B2C612D988727_element_2386\")>,\n",
       " <selenium.webdriver.remote.webelement.WebElement (session=\"2385b0bf26d2c6acb0d952d53d29df0f\", element=\"BFC50D03160DE3D22D2B2C612D988727_element_2387\")>,\n",
       " <selenium.webdriver.remote.webelement.WebElement (session=\"2385b0bf26d2c6acb0d952d53d29df0f\", element=\"BFC50D03160DE3D22D2B2C612D988727_element_2388\")>,\n",
       " <selenium.webdriver.remote.webelement.WebElement (session=\"2385b0bf26d2c6acb0d952d53d29df0f\", element=\"BFC50D03160DE3D22D2B2C612D988727_element_2389\")>,\n",
       " <selenium.webdriver.remote.webelement.WebElement (session=\"2385b0bf26d2c6acb0d952d53d29df0f\", element=\"BFC50D03160DE3D22D2B2C612D988727_element_2390\")>,\n",
       " <selenium.webdriver.remote.webelement.WebElement (session=\"2385b0bf26d2c6acb0d952d53d29df0f\", element=\"BFC50D03160DE3D22D2B2C612D988727_element_2391\")>,\n",
       " <selenium.webdriver.remote.webelement.WebElement (session=\"2385b0bf26d2c6acb0d952d53d29df0f\", element=\"BFC50D03160DE3D22D2B2C612D988727_element_2392\")>,\n",
       " <selenium.webdriver.remote.webelement.WebElement (session=\"2385b0bf26d2c6acb0d952d53d29df0f\", element=\"BFC50D03160DE3D22D2B2C612D988727_element_2393\")>,\n",
       " <selenium.webdriver.remote.webelement.WebElement (session=\"2385b0bf26d2c6acb0d952d53d29df0f\", element=\"BFC50D03160DE3D22D2B2C612D988727_element_2394\")>,\n",
       " <selenium.webdriver.remote.webelement.WebElement (session=\"2385b0bf26d2c6acb0d952d53d29df0f\", element=\"BFC50D03160DE3D22D2B2C612D988727_element_2395\")>,\n",
       " <selenium.webdriver.remote.webelement.WebElement (session=\"2385b0bf26d2c6acb0d952d53d29df0f\", element=\"BFC50D03160DE3D22D2B2C612D988727_element_2396\")>,\n",
       " <selenium.webdriver.remote.webelement.WebElement (session=\"2385b0bf26d2c6acb0d952d53d29df0f\", element=\"BFC50D03160DE3D22D2B2C612D988727_element_2397\")>,\n",
       " <selenium.webdriver.remote.webelement.WebElement (session=\"2385b0bf26d2c6acb0d952d53d29df0f\", element=\"BFC50D03160DE3D22D2B2C612D988727_element_2398\")>,\n",
       " <selenium.webdriver.remote.webelement.WebElement (session=\"2385b0bf26d2c6acb0d952d53d29df0f\", element=\"BFC50D03160DE3D22D2B2C612D988727_element_2399\")>,\n",
       " <selenium.webdriver.remote.webelement.WebElement (session=\"2385b0bf26d2c6acb0d952d53d29df0f\", element=\"BFC50D03160DE3D22D2B2C612D988727_element_2400\")>,\n",
       " <selenium.webdriver.remote.webelement.WebElement (session=\"2385b0bf26d2c6acb0d952d53d29df0f\", element=\"BFC50D03160DE3D22D2B2C612D988727_element_2401\")>,\n",
       " <selenium.webdriver.remote.webelement.WebElement (session=\"2385b0bf26d2c6acb0d952d53d29df0f\", element=\"BFC50D03160DE3D22D2B2C612D988727_element_2402\")>,\n",
       " <selenium.webdriver.remote.webelement.WebElement (session=\"2385b0bf26d2c6acb0d952d53d29df0f\", element=\"BFC50D03160DE3D22D2B2C612D988727_element_2403\")>,\n",
       " <selenium.webdriver.remote.webelement.WebElement (session=\"2385b0bf26d2c6acb0d952d53d29df0f\", element=\"BFC50D03160DE3D22D2B2C612D988727_element_2404\")>,\n",
       " <selenium.webdriver.remote.webelement.WebElement (session=\"2385b0bf26d2c6acb0d952d53d29df0f\", element=\"BFC50D03160DE3D22D2B2C612D988727_element_2405\")>,\n",
       " <selenium.webdriver.remote.webelement.WebElement (session=\"2385b0bf26d2c6acb0d952d53d29df0f\", element=\"BFC50D03160DE3D22D2B2C612D988727_element_2406\")>,\n",
       " <selenium.webdriver.remote.webelement.WebElement (session=\"2385b0bf26d2c6acb0d952d53d29df0f\", element=\"BFC50D03160DE3D22D2B2C612D988727_element_2407\")>,\n",
       " <selenium.webdriver.remote.webelement.WebElement (session=\"2385b0bf26d2c6acb0d952d53d29df0f\", element=\"BFC50D03160DE3D22D2B2C612D988727_element_2408\")>,\n",
       " <selenium.webdriver.remote.webelement.WebElement (session=\"2385b0bf26d2c6acb0d952d53d29df0f\", element=\"BFC50D03160DE3D22D2B2C612D988727_element_2409\")>,\n",
       " <selenium.webdriver.remote.webelement.WebElement (session=\"2385b0bf26d2c6acb0d952d53d29df0f\", element=\"BFC50D03160DE3D22D2B2C612D988727_element_2410\")>,\n",
       " <selenium.webdriver.remote.webelement.WebElement (session=\"2385b0bf26d2c6acb0d952d53d29df0f\", element=\"BFC50D03160DE3D22D2B2C612D988727_element_2411\")>,\n",
       " <selenium.webdriver.remote.webelement.WebElement (session=\"2385b0bf26d2c6acb0d952d53d29df0f\", element=\"BFC50D03160DE3D22D2B2C612D988727_element_2412\")>,\n",
       " <selenium.webdriver.remote.webelement.WebElement (session=\"2385b0bf26d2c6acb0d952d53d29df0f\", element=\"BFC50D03160DE3D22D2B2C612D988727_element_2413\")>,\n",
       " <selenium.webdriver.remote.webelement.WebElement (session=\"2385b0bf26d2c6acb0d952d53d29df0f\", element=\"BFC50D03160DE3D22D2B2C612D988727_element_2414\")>,\n",
       " <selenium.webdriver.remote.webelement.WebElement (session=\"2385b0bf26d2c6acb0d952d53d29df0f\", element=\"BFC50D03160DE3D22D2B2C612D988727_element_2415\")>,\n",
       " <selenium.webdriver.remote.webelement.WebElement (session=\"2385b0bf26d2c6acb0d952d53d29df0f\", element=\"BFC50D03160DE3D22D2B2C612D988727_element_2416\")>,\n",
       " <selenium.webdriver.remote.webelement.WebElement (session=\"2385b0bf26d2c6acb0d952d53d29df0f\", element=\"BFC50D03160DE3D22D2B2C612D988727_element_2417\")>,\n",
       " <selenium.webdriver.remote.webelement.WebElement (session=\"2385b0bf26d2c6acb0d952d53d29df0f\", element=\"BFC50D03160DE3D22D2B2C612D988727_element_2418\")>,\n",
       " <selenium.webdriver.remote.webelement.WebElement (session=\"2385b0bf26d2c6acb0d952d53d29df0f\", element=\"BFC50D03160DE3D22D2B2C612D988727_element_2419\")>,\n",
       " <selenium.webdriver.remote.webelement.WebElement (session=\"2385b0bf26d2c6acb0d952d53d29df0f\", element=\"BFC50D03160DE3D22D2B2C612D988727_element_2420\")>,\n",
       " <selenium.webdriver.remote.webelement.WebElement (session=\"2385b0bf26d2c6acb0d952d53d29df0f\", element=\"BFC50D03160DE3D22D2B2C612D988727_element_2421\")>,\n",
       " <selenium.webdriver.remote.webelement.WebElement (session=\"2385b0bf26d2c6acb0d952d53d29df0f\", element=\"BFC50D03160DE3D22D2B2C612D988727_element_2422\")>,\n",
       " <selenium.webdriver.remote.webelement.WebElement (session=\"2385b0bf26d2c6acb0d952d53d29df0f\", element=\"BFC50D03160DE3D22D2B2C612D988727_element_2423\")>,\n",
       " <selenium.webdriver.remote.webelement.WebElement (session=\"2385b0bf26d2c6acb0d952d53d29df0f\", element=\"BFC50D03160DE3D22D2B2C612D988727_element_2424\")>,\n",
       " <selenium.webdriver.remote.webelement.WebElement (session=\"2385b0bf26d2c6acb0d952d53d29df0f\", element=\"BFC50D03160DE3D22D2B2C612D988727_element_2425\")>]"
      ]
     },
     "execution_count": 31,
     "metadata": {},
     "output_type": "execute_result"
    }
   ],
   "source": [
    "items_list"
   ]
  },
  {
   "cell_type": "code",
   "execution_count": null,
   "id": "f2106e39",
   "metadata": {},
   "outputs": [],
   "source": []
  }
 ],
 "metadata": {
  "kernelspec": {
   "display_name": "Python 3 (ipykernel)",
   "language": "python",
   "name": "python3"
  },
  "language_info": {
   "codemirror_mode": {
    "name": "ipython",
    "version": 3
   },
   "file_extension": ".py",
   "mimetype": "text/x-python",
   "name": "python",
   "nbconvert_exporter": "python",
   "pygments_lexer": "ipython3",
   "version": "3.8.16"
  }
 },
 "nbformat": 4,
 "nbformat_minor": 5
}
