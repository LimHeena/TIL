{
 "cells": [
  {
   "cell_type": "code",
   "execution_count": 1,
   "metadata": {},
   "outputs": [],
   "source": [
    "import smtplib\n",
    "import email"
   ]
  },
  {
   "cell_type": "code",
   "execution_count": 13,
   "metadata": {},
   "outputs": [],
   "source": [
    "SMTP_SERVER = 'smtp.gmail.com'\n",
    "SMTP_PORT = 465\n",
    "SMTP_USER = 'dlagmlsk8@gmail.com'\n",
    "SMTP_PASSWORD = open('./config', 'r').read().strip()"
   ]
  },
  {
   "cell_type": "code",
   "execution_count": 14,
   "metadata": {},
   "outputs": [],
   "source": [
    "from email.mime.multipart import MIMEMultipart\n",
    "from email.mime.text import MIMEText\n",
    "\n",
    "to_users = ['dlagmlsk7@naver.com']\n",
    "target_addr = ','.join(to_users)\n",
    "subject = '테스트 메일 발송2222!!'\n",
    "contents = '랄랄라라~~~'\n",
    "\n",
    "msg = MIMEMultipart('alternative')\n",
    "\n",
    "msg['From'] = SMTP_USER\n",
    "msg['To'] = target_addr\n",
    "msg['Subject'] = subject\n",
    "text = MIMEText(contents)\n",
    "msg.attach(text)\n"
   ]
  },
  {
   "cell_type": "code",
   "execution_count": 15,
   "metadata": {},
   "outputs": [],
   "source": [
    "smtp = smtplib.SMTP_SSL(SMTP_SERVER, SMTP_PORT)\n",
    "smtp.login(SMTP_USER, SMTP_PASSWORD)\n",
    "smtp.sendmail(SMTP_USER, to_users, msg.as_string())\n",
    "smtp.close()\n"
   ]
  },
  {
   "cell_type": "code",
   "execution_count": 24,
   "metadata": {},
   "outputs": [],
   "source": [
    "from email.mime.multipart import MIMEMultipart\n",
    "from email.mime.text import MIMEText\n",
    "\n",
    "to_users = ['dlagmlsk7@naver.com']\n",
    "target_addr = ','.join(to_users)\n",
    "subject = '테스트 메일 발송3333!!'\n",
    "contents = '랄랄라라~~~'\n",
    "\n",
    "msg = MIMEMultipart('mixed')\n",
    "\n",
    "msg['From'] = SMTP_USER\n",
    "msg['To'] = target_addr\n",
    "msg['Subject'] = subject\n",
    "text = MIMEText(contents)\n",
    "msg.attach(text)\n"
   ]
  },
  {
   "cell_type": "code",
   "execution_count": 25,
   "metadata": {},
   "outputs": [
    {
     "name": "stdout",
     "output_type": "stream",
     "text": [
      "커리큘럼.xlsx\n"
     ]
    }
   ],
   "source": [
    "from email.mime.base import MIMEBase\n",
    "from email import encoders\n",
    "\n",
    "from os.path import basename\n",
    "\n",
    "email_file = MIMEBase('application', 'application/pdf') #'application', 'octet-stream'\n",
    "with open('./커리큘럼.xlsx', 'rb') as f:\n",
    "    file_data = f.read()\n",
    "email_file.set_payload(file_data)\n",
    "encoders.encode_base64(email_file)\n",
    "\n",
    "file_name = basename('./커리큘럼.xlsx')\n",
    "print(file_name)\n",
    "email_file.add_header('Content-Disposition', 'attachment', filename=file_name)\n",
    "\n",
    "msg.attach(email_file)\n"
   ]
  },
  {
   "cell_type": "code",
   "execution_count": 26,
   "metadata": {},
   "outputs": [],
   "source": [
    "smtp = smtplib.SMTP_SSL(SMTP_SERVER, SMTP_PORT)\n",
    "smtp.login(SMTP_USER, SMTP_PASSWORD)\n",
    "smtp.sendmail(SMTP_USER, to_users, msg.as_string())\n",
    "smtp.close()"
   ]
  },
  {
   "cell_type": "code",
   "execution_count": 27,
   "metadata": {},
   "outputs": [
    {
     "name": "stdout",
     "output_type": "stream",
     "text": [
      "Collecting python-telegram-bot\n",
      "  Downloading python_telegram_bot-20.2-py3-none-any.whl (535 kB)\n",
      "     -------------------------------------- 535.8/535.8 kB 5.7 MB/s eta 0:00:00\n",
      "Collecting httpx~=0.23.3\n",
      "  Downloading httpx-0.23.3-py3-none-any.whl (71 kB)\n",
      "     ---------------------------------------- 71.5/71.5 kB 4.1 MB/s eta 0:00:00\n",
      "Collecting rfc3986[idna2008]<2,>=1.3\n",
      "  Downloading rfc3986-1.5.0-py2.py3-none-any.whl (31 kB)\n",
      "Requirement already satisfied: certifi in c:\\users\\dlagm\\anaconda3\\envs\\study\\lib\\site-packages (from httpx~=0.23.3->python-telegram-bot) (2022.12.7)\n",
      "Collecting httpcore<0.17.0,>=0.15.0\n",
      "  Downloading httpcore-0.16.3-py3-none-any.whl (69 kB)\n",
      "     ---------------------------------------- 69.6/69.6 kB ? eta 0:00:00\n",
      "Requirement already satisfied: sniffio in c:\\users\\dlagm\\anaconda3\\envs\\study\\lib\\site-packages (from httpx~=0.23.3->python-telegram-bot) (1.3.0)\n",
      "Requirement already satisfied: h11<0.15,>=0.13 in c:\\users\\dlagm\\anaconda3\\envs\\study\\lib\\site-packages (from httpcore<0.17.0,>=0.15.0->httpx~=0.23.3->python-telegram-bot) (0.14.0)\n",
      "Requirement already satisfied: anyio<5.0,>=3.0 in c:\\users\\dlagm\\anaconda3\\envs\\study\\lib\\site-packages (from httpcore<0.17.0,>=0.15.0->httpx~=0.23.3->python-telegram-bot) (3.6.2)\n",
      "Requirement already satisfied: idna in c:\\users\\dlagm\\anaconda3\\envs\\study\\lib\\site-packages (from rfc3986[idna2008]<2,>=1.3->httpx~=0.23.3->python-telegram-bot) (3.4)\n",
      "Installing collected packages: rfc3986, httpcore, httpx, python-telegram-bot\n",
      "Successfully installed httpcore-0.16.3 httpx-0.23.3 python-telegram-bot-20.2 rfc3986-1.5.0\n",
      "Note: you may need to restart the kernel to use updated packages.\n"
     ]
    }
   ],
   "source": [
    "%pip install python-telegram-bot"
   ]
  },
  {
   "cell_type": "code",
   "execution_count": 37,
   "metadata": {},
   "outputs": [],
   "source": [
    "token = '6144557674:AAGsnLtpHoxbIpzqfRe3PIy65ardbHB2Xrs'"
   ]
  },
  {
   "cell_type": "code",
   "execution_count": 40,
   "metadata": {},
   "outputs": [],
   "source": [
    "import telegram"
   ]
  },
  {
   "cell_type": "code",
   "execution_count": 41,
   "metadata": {},
   "outputs": [],
   "source": [
    "bot = telegram.Bot(token)"
   ]
  },
  {
   "cell_type": "code",
   "execution_count": 42,
   "metadata": {},
   "outputs": [],
   "source": [
    "updates = await bot.get_updates()"
   ]
  },
  {
   "cell_type": "code",
   "execution_count": 43,
   "metadata": {},
   "outputs": [
    {
     "data": {
      "text/plain": [
       "(Update(message=Message(channel_chat_created=False, chat=Chat(first_name='Heena', id=6037740396, last_name='Lim', type=<ChatType.PRIVATE>), date=datetime.datetime(2023, 4, 4, 1, 42, 9, tzinfo=<UTC>), delete_chat_photo=False, from_user=User(first_name='Heena', id=6037740396, is_bot=False, language_code='ko', last_name='Lim'), group_chat_created=False, message_id=3, supergroup_chat_created=False, text='TEST'), update_id=937081436),)"
      ]
     },
     "execution_count": 43,
     "metadata": {},
     "output_type": "execute_result"
    }
   ],
   "source": [
    "updates"
   ]
  },
  {
   "cell_type": "code",
   "execution_count": 44,
   "metadata": {},
   "outputs": [
    {
     "name": "stdout",
     "output_type": "stream",
     "text": [
      "6037740396\n"
     ]
    }
   ],
   "source": [
    "# 신규 메시지 조회\n",
    "print(updates[-1].message.chat.id)"
   ]
  },
  {
   "cell_type": "code",
   "execution_count": 58,
   "metadata": {},
   "outputs": [
    {
     "data": {
      "text/plain": [
       "Message(channel_chat_created=False, chat=Chat(first_name='Heena', id=6037740396, last_name='Lim', type=<ChatType.PRIVATE>), date=datetime.datetime(2023, 4, 4, 1, 59, 5, tzinfo=<UTC>), delete_chat_photo=False, from_user=User(first_name='heena', id=6144557674, is_bot=True, username='heen_aBot'), group_chat_created=False, message_id=6, supergroup_chat_created=False, text='메시지!!')"
      ]
     },
     "execution_count": 58,
     "metadata": {},
     "output_type": "execute_result"
    }
   ],
   "source": [
    "await bot.send_message(chat_id='6037740396', text=\"메시지!!\")"
   ]
  },
  {
   "cell_type": "code",
   "execution_count": 64,
   "metadata": {},
   "outputs": [],
   "source": [
    "import requests\n",
    "r = requests.get('https://cdn.pixabay.com/photo/2016/07/15/15/55/dachshund-1519374__340.jpg')\n",
    "\n",
    "image_data = r.content"
   ]
  },
  {
   "cell_type": "code",
   "execution_count": 65,
   "metadata": {},
   "outputs": [
    {
     "data": {
      "text/plain": [
       "Message(channel_chat_created=False, chat=Chat(first_name='Heena', id=6037740396, last_name='Lim', type=<ChatType.PRIVATE>), date=datetime.datetime(2023, 4, 4, 2, 2, 55, tzinfo=<UTC>), delete_chat_photo=False, from_user=User(first_name='heena', id=6144557674, is_bot=True, username='heen_aBot'), group_chat_created=False, message_id=8, photo=(PhotoSize(file_id='AgACAgUAAxkDAAMIZCuFT8c-dOJR0npLbQxeykygtcEAAuOxMRvD9GBVRO2AjRWv9FYBAAMCAANzAAMvBA', file_size=1710, file_unique_id='AQAD47ExG8P0YFV4', height=68, width=90), PhotoSize(file_id='AgACAgUAAxkDAAMIZCuFT8c-dOJR0npLbQxeykygtcEAAuOxMRvD9GBVRO2AjRWv9FYBAAMCAANtAAMvBA', file_size=19788, file_unique_id='AQAD47ExG8P0YFVy', height=242, width=320), PhotoSize(file_id='AgACAgUAAxkDAAMIZCuFT8c-dOJR0npLbQxeykygtcEAAuOxMRvD9GBVRO2AjRWv9FYBAAMCAAN4AAMvBA', file_size=31948, file_unique_id='AQAD47ExG8P0YFV9', height=340, width=449)), supergroup_chat_created=False)"
      ]
     },
     "execution_count": 65,
     "metadata": {},
     "output_type": "execute_result"
    }
   ],
   "source": [
    "#image_file = open('image_path', 'rb')\n",
    "await bot.send_photo('6037740396', image_data)"
   ]
  },
  {
   "cell_type": "code",
   "execution_count": null,
   "metadata": {},
   "outputs": [],
   "source": []
  }
 ],
 "metadata": {
  "kernelspec": {
   "display_name": "study",
   "language": "python",
   "name": "python3"
  },
  "language_info": {
   "codemirror_mode": {
    "name": "ipython",
    "version": 3
   },
   "file_extension": ".py",
   "mimetype": "text/x-python",
   "name": "python",
   "nbconvert_exporter": "python",
   "pygments_lexer": "ipython3",
   "version": "3.10.9"
  },
  "orig_nbformat": 4
 },
 "nbformat": 4,
 "nbformat_minor": 2
}
